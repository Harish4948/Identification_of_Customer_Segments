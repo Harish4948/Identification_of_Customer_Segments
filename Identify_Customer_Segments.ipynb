{
 "cells": [
  {
   "cell_type": "markdown",
   "metadata": {},
   "source": [
    "# Project: Identify Customer Segments\n",
    "\n",
    "In this project, you will apply unsupervised learning techniques to identify segments of the population that form the core customer base for a mail-order sales company in Germany. These segments can then be used to direct marketing campaigns towards audiences that will have the highest expected rate of returns. The data that you will use has been provided by our partners at Bertelsmann Arvato Analytics, and represents a real-life data science task.\n",
    "\n",
    "This notebook will help you complete this task by providing a framework within which you will perform your analysis steps. In each step of the project, you will see some text describing the subtask that you will perform, followed by one or more code cells for you to complete your work. **Feel free to add additional code and markdown cells as you go along so that you can explore everything in precise chunks.** The code cells provided in the base template will outline only the major tasks, and will usually not be enough to cover all of the minor tasks that comprise it.\n",
    "\n",
    "It should be noted that while there will be precise guidelines on how you should handle certain tasks in the project, there will also be places where an exact specification is not provided. **There will be times in the project where you will need to make and justify your own decisions on how to treat the data.** These are places where there may not be only one way to handle the data. In real-life tasks, there may be many valid ways to approach an analysis task. One of the most important things you can do is clearly document your approach so that other scientists can understand the decisions you've made.\n",
    "\n",
    "At the end of most sections, there will be a Markdown cell labeled **Discussion**. In these cells, you will report your findings for the completed section, as well as document the decisions that you made in your approach to each subtask. **Your project will be evaluated not just on the code used to complete the tasks outlined, but also your communication about your observations and conclusions at each stage.**"
   ]
  },
  {
   "cell_type": "code",
   "execution_count": 71,
   "metadata": {},
   "outputs": [
    {
     "data": {
      "text/plain": [
       "'\\nImport note: The classroom currently uses sklearn version 0.19.\\nIf you need to use an imputer, it is available in sklearn.preprocessing.Imputer,\\ninstead of sklearn.impute as in newer versions of sklearn.\\n'"
      ]
     },
     "execution_count": 71,
     "metadata": {},
     "output_type": "execute_result"
    }
   ],
   "source": [
    "# import libraries here; add more as necessary\n",
    "import numpy as np\n",
    "import pandas as pd\n",
    "import matplotlib.pyplot as plt\n",
    "import seaborn as sns\n",
    "# magic word for producing visualizations in notebook\n",
    "%matplotlib inline\n",
    "\n",
    "'''\n",
    "Import note: The classroom currently uses sklearn version 0.19.\n",
    "If you need to use an imputer, it is available in sklearn.preprocessing.Imputer,\n",
    "instead of sklearn.impute as in newer versions of sklearn.\n",
    "'''"
   ]
  },
  {
   "cell_type": "markdown",
   "metadata": {},
   "source": [
    "### Step 0: Load the Data\n",
    "\n",
    "There are four files associated with this project (not including this one):\n",
    "\n",
    "- `Udacity_AZDIAS_Subset.csv`: Demographics data for the general population of Germany; 891211 persons (rows) x 85 features (columns).\n",
    "- `Udacity_CUSTOMERS_Subset.csv`: Demographics data for customers of a mail-order company; 191652 persons (rows) x 85 features (columns).\n",
    "- `Data_Dictionary.md`: Detailed information file about the features in the provided datasets.\n",
    "- `AZDIAS_Feature_Summary.csv`: Summary of feature attributes for demographics data; 85 features (rows) x 4 columns\n",
    "\n",
    "Each row of the demographics files represents a single person, but also includes information outside of individuals, including information about their household, building, and neighborhood. You will use this information to cluster the general population into groups with similar demographic properties. Then, you will see how the people in the customers dataset fit into those created clusters. The hope here is that certain clusters are over-represented in the customers data, as compared to the general population; those over-represented clusters will be assumed to be part of the core userbase. This information can then be used for further applications, such as targeting for a marketing campaign.\n",
    "\n",
    "To start off with, load in the demographics data for the general population into a pandas DataFrame, and do the same for the feature attributes summary. Note for all of the `.csv` data files in this project: they're semicolon (`;`) delimited, so you'll need an additional argument in your [`read_csv()`](https://pandas.pydata.org/pandas-docs/stable/generated/pandas.read_csv.html) call to read in the data properly. Also, considering the size of the main dataset, it may take some time for it to load completely.\n",
    "\n",
    "Once the dataset is loaded, it's recommended that you take a little bit of time just browsing the general structure of the dataset and feature summary file. You'll be getting deep into the innards of the cleaning in the first major step of the project, so gaining some general familiarity can help you get your bearings."
   ]
  },
  {
   "cell_type": "code",
   "execution_count": 72,
   "metadata": {},
   "outputs": [],
   "source": [
    "# Load in the general demographics data.\n",
    "azdias = pd.read_csv('Udacity_AZDIAS_Subset.csv',delimiter=';')\n",
    "\n",
    "# Load in the feature summary file.\n",
    "feat_info = pd.read_csv('AZDIAS_Feature_Summary.csv',delimiter=';')"
   ]
  },
  {
   "cell_type": "code",
   "execution_count": 73,
   "metadata": {},
   "outputs": [
    {
     "data": {
      "text/html": [
       "<div>\n",
       "<style scoped>\n",
       "    .dataframe tbody tr th:only-of-type {\n",
       "        vertical-align: middle;\n",
       "    }\n",
       "\n",
       "    .dataframe tbody tr th {\n",
       "        vertical-align: top;\n",
       "    }\n",
       "\n",
       "    .dataframe thead th {\n",
       "        text-align: right;\n",
       "    }\n",
       "</style>\n",
       "<table border=\"1\" class=\"dataframe\">\n",
       "  <thead>\n",
       "    <tr style=\"text-align: right;\">\n",
       "      <th></th>\n",
       "      <th>attribute</th>\n",
       "      <th>information_level</th>\n",
       "      <th>type</th>\n",
       "      <th>missing_or_unknown</th>\n",
       "    </tr>\n",
       "  </thead>\n",
       "  <tbody>\n",
       "    <tr>\n",
       "      <th>0</th>\n",
       "      <td>AGER_TYP</td>\n",
       "      <td>person</td>\n",
       "      <td>categorical</td>\n",
       "      <td>[-1,0]</td>\n",
       "    </tr>\n",
       "    <tr>\n",
       "      <th>1</th>\n",
       "      <td>ALTERSKATEGORIE_GROB</td>\n",
       "      <td>person</td>\n",
       "      <td>ordinal</td>\n",
       "      <td>[-1,0,9]</td>\n",
       "    </tr>\n",
       "    <tr>\n",
       "      <th>2</th>\n",
       "      <td>ANREDE_KZ</td>\n",
       "      <td>person</td>\n",
       "      <td>categorical</td>\n",
       "      <td>[-1,0]</td>\n",
       "    </tr>\n",
       "    <tr>\n",
       "      <th>3</th>\n",
       "      <td>CJT_GESAMTTYP</td>\n",
       "      <td>person</td>\n",
       "      <td>categorical</td>\n",
       "      <td>[0]</td>\n",
       "    </tr>\n",
       "    <tr>\n",
       "      <th>4</th>\n",
       "      <td>FINANZ_MINIMALIST</td>\n",
       "      <td>person</td>\n",
       "      <td>ordinal</td>\n",
       "      <td>[-1]</td>\n",
       "    </tr>\n",
       "    <tr>\n",
       "      <th>5</th>\n",
       "      <td>FINANZ_SPARER</td>\n",
       "      <td>person</td>\n",
       "      <td>ordinal</td>\n",
       "      <td>[-1]</td>\n",
       "    </tr>\n",
       "    <tr>\n",
       "      <th>6</th>\n",
       "      <td>FINANZ_VORSORGER</td>\n",
       "      <td>person</td>\n",
       "      <td>ordinal</td>\n",
       "      <td>[-1]</td>\n",
       "    </tr>\n",
       "    <tr>\n",
       "      <th>7</th>\n",
       "      <td>FINANZ_ANLEGER</td>\n",
       "      <td>person</td>\n",
       "      <td>ordinal</td>\n",
       "      <td>[-1]</td>\n",
       "    </tr>\n",
       "    <tr>\n",
       "      <th>8</th>\n",
       "      <td>FINANZ_UNAUFFAELLIGER</td>\n",
       "      <td>person</td>\n",
       "      <td>ordinal</td>\n",
       "      <td>[-1]</td>\n",
       "    </tr>\n",
       "    <tr>\n",
       "      <th>9</th>\n",
       "      <td>FINANZ_HAUSBAUER</td>\n",
       "      <td>person</td>\n",
       "      <td>ordinal</td>\n",
       "      <td>[-1]</td>\n",
       "    </tr>\n",
       "    <tr>\n",
       "      <th>10</th>\n",
       "      <td>FINANZTYP</td>\n",
       "      <td>person</td>\n",
       "      <td>categorical</td>\n",
       "      <td>[-1]</td>\n",
       "    </tr>\n",
       "    <tr>\n",
       "      <th>11</th>\n",
       "      <td>GEBURTSJAHR</td>\n",
       "      <td>person</td>\n",
       "      <td>numeric</td>\n",
       "      <td>[0]</td>\n",
       "    </tr>\n",
       "    <tr>\n",
       "      <th>12</th>\n",
       "      <td>GFK_URLAUBERTYP</td>\n",
       "      <td>person</td>\n",
       "      <td>categorical</td>\n",
       "      <td>[]</td>\n",
       "    </tr>\n",
       "  </tbody>\n",
       "</table>\n",
       "</div>"
      ],
      "text/plain": [
       "                attribute information_level         type missing_or_unknown\n",
       "0                AGER_TYP            person  categorical             [-1,0]\n",
       "1    ALTERSKATEGORIE_GROB            person      ordinal           [-1,0,9]\n",
       "2               ANREDE_KZ            person  categorical             [-1,0]\n",
       "3           CJT_GESAMTTYP            person  categorical                [0]\n",
       "4       FINANZ_MINIMALIST            person      ordinal               [-1]\n",
       "5           FINANZ_SPARER            person      ordinal               [-1]\n",
       "6        FINANZ_VORSORGER            person      ordinal               [-1]\n",
       "7          FINANZ_ANLEGER            person      ordinal               [-1]\n",
       "8   FINANZ_UNAUFFAELLIGER            person      ordinal               [-1]\n",
       "9        FINANZ_HAUSBAUER            person      ordinal               [-1]\n",
       "10              FINANZTYP            person  categorical               [-1]\n",
       "11            GEBURTSJAHR            person      numeric                [0]\n",
       "12        GFK_URLAUBERTYP            person  categorical                 []"
      ]
     },
     "execution_count": 73,
     "metadata": {},
     "output_type": "execute_result"
    }
   ],
   "source": [
    "# Check the structure of the data after it's loaded (e.g. print the number of\n",
    "# rows and columns, print the first few rows).\n",
    "azdias.shape\n",
    "azdias1=azdias\n",
    "#print(azdias.head(10))\n",
    "feat_info.head(13)"
   ]
  },
  {
   "cell_type": "code",
   "execution_count": 74,
   "metadata": {},
   "outputs": [],
   "source": [
    "# azdias=azdias1"
   ]
  },
  {
   "cell_type": "markdown",
   "metadata": {},
   "source": [
    "> **Tip**: Add additional cells to keep everything in reasonably-sized chunks! Keyboard shortcut `esc --> a` (press escape to enter command mode, then press the 'A' key) adds a new cell before the active cell, and `esc --> b` adds a new cell after the active cell. If you need to convert an active cell to a markdown cell, use `esc --> m` and to convert to a code cell, use `esc --> y`. \n",
    "\n",
    "## Step 1: Preprocessing\n",
    "\n",
    "### Step 1.1: Assess Missing Data\n",
    "\n",
    "The feature summary file contains a summary of properties for each demographics data column. You will use this file to help you make cleaning decisions during this stage of the project. First of all, you should assess the demographics data in terms of missing data. Pay attention to the following points as you perform your analysis, and take notes on what you observe. Make sure that you fill in the **Discussion** cell with your findings and decisions at the end of each step that has one!\n",
    "\n",
    "#### Step 1.1.1: Convert Missing Value Codes to NaNs\n",
    "The fourth column of the feature attributes summary (loaded in above as `feat_info`) documents the codes from the data dictionary that indicate missing or unknown data. While the file encodes this as a list (e.g. `[-1,0]`), this will get read in as a string object. You'll need to do a little bit of parsing to make use of it to identify and clean the data. Convert data that matches a 'missing' or 'unknown' value code into a numpy NaN value. You might want to see how much data takes on a 'missing' or 'unknown' code, and how much data is naturally missing, as a point of interest.\n",
    "\n",
    "**As one more reminder, you are encouraged to add additional cells to break up your analysis into manageable chunks.**"
   ]
  },
  {
   "cell_type": "code",
   "execution_count": 75,
   "metadata": {},
   "outputs": [
    {
     "name": "stdout",
     "output_type": "stream",
     "text": [
      "4896838\n"
     ]
    }
   ],
   "source": [
    "print(azdias.isnull().sum().sum())"
   ]
  },
  {
   "cell_type": "code",
   "execution_count": 76,
   "metadata": {},
   "outputs": [],
   "source": [
    "# Identify missing or unknown data values and convert them to NaNs.\n",
    "\n",
    "for col in azdias.columns:\n",
    "    missing_values=feat_info[feat_info.attribute==col]['missing_or_unknown'].values#.strip('[').strip(']').split(',')\n",
    "    missing_values=missing_values[0].strip('[]').split(',')\n",
    "    try:\n",
    "        missing_values=list(map(int,missing_values))\n",
    "    except ValueError:\n",
    "        missing_values1=[]\n",
    "        #missing_values=missing_values[0].strip('[]').split(',')\n",
    "        for i in missing_values:\n",
    "            if i!='X' and i!='XX' and i!='' and i!='[]':\n",
    "                missing_values1.append(int(i))\n",
    "            else:\n",
    "                missing_values1.append(i)\n",
    "        missing_values=missing_values1\n",
    "    if missing_values!=['']:\n",
    "        azdias[col]=azdias[col].replace(missing_values,np.nan)"
   ]
  },
  {
   "cell_type": "code",
   "execution_count": 77,
   "metadata": {},
   "outputs": [
    {
     "data": {
      "text/html": [
       "<div>\n",
       "<style scoped>\n",
       "    .dataframe tbody tr th:only-of-type {\n",
       "        vertical-align: middle;\n",
       "    }\n",
       "\n",
       "    .dataframe tbody tr th {\n",
       "        vertical-align: top;\n",
       "    }\n",
       "\n",
       "    .dataframe thead th {\n",
       "        text-align: right;\n",
       "    }\n",
       "</style>\n",
       "<table border=\"1\" class=\"dataframe\">\n",
       "  <thead>\n",
       "    <tr style=\"text-align: right;\">\n",
       "      <th></th>\n",
       "      <th>AGER_TYP</th>\n",
       "      <th>ALTERSKATEGORIE_GROB</th>\n",
       "      <th>ANREDE_KZ</th>\n",
       "      <th>CJT_GESAMTTYP</th>\n",
       "      <th>FINANZ_MINIMALIST</th>\n",
       "      <th>FINANZ_SPARER</th>\n",
       "      <th>FINANZ_VORSORGER</th>\n",
       "      <th>FINANZ_ANLEGER</th>\n",
       "      <th>FINANZ_UNAUFFAELLIGER</th>\n",
       "      <th>FINANZ_HAUSBAUER</th>\n",
       "      <th>...</th>\n",
       "      <th>PLZ8_ANTG1</th>\n",
       "      <th>PLZ8_ANTG2</th>\n",
       "      <th>PLZ8_ANTG3</th>\n",
       "      <th>PLZ8_ANTG4</th>\n",
       "      <th>PLZ8_BAUMAX</th>\n",
       "      <th>PLZ8_HHZ</th>\n",
       "      <th>PLZ8_GBZ</th>\n",
       "      <th>ARBEIT</th>\n",
       "      <th>ORTSGR_KLS9</th>\n",
       "      <th>RELAT_AB</th>\n",
       "    </tr>\n",
       "  </thead>\n",
       "  <tbody>\n",
       "    <tr>\n",
       "      <th>0</th>\n",
       "      <td>NaN</td>\n",
       "      <td>2.0</td>\n",
       "      <td>1</td>\n",
       "      <td>2.0</td>\n",
       "      <td>3</td>\n",
       "      <td>4</td>\n",
       "      <td>3</td>\n",
       "      <td>5</td>\n",
       "      <td>5</td>\n",
       "      <td>3</td>\n",
       "      <td>...</td>\n",
       "      <td>NaN</td>\n",
       "      <td>NaN</td>\n",
       "      <td>NaN</td>\n",
       "      <td>NaN</td>\n",
       "      <td>NaN</td>\n",
       "      <td>NaN</td>\n",
       "      <td>NaN</td>\n",
       "      <td>NaN</td>\n",
       "      <td>NaN</td>\n",
       "      <td>NaN</td>\n",
       "    </tr>\n",
       "    <tr>\n",
       "      <th>1</th>\n",
       "      <td>NaN</td>\n",
       "      <td>1.0</td>\n",
       "      <td>2</td>\n",
       "      <td>5.0</td>\n",
       "      <td>1</td>\n",
       "      <td>5</td>\n",
       "      <td>2</td>\n",
       "      <td>5</td>\n",
       "      <td>4</td>\n",
       "      <td>5</td>\n",
       "      <td>...</td>\n",
       "      <td>2.0</td>\n",
       "      <td>3.0</td>\n",
       "      <td>2.0</td>\n",
       "      <td>1.0</td>\n",
       "      <td>1.0</td>\n",
       "      <td>5.0</td>\n",
       "      <td>4.0</td>\n",
       "      <td>3.0</td>\n",
       "      <td>5.0</td>\n",
       "      <td>4.0</td>\n",
       "    </tr>\n",
       "    <tr>\n",
       "      <th>2</th>\n",
       "      <td>NaN</td>\n",
       "      <td>3.0</td>\n",
       "      <td>2</td>\n",
       "      <td>3.0</td>\n",
       "      <td>1</td>\n",
       "      <td>4</td>\n",
       "      <td>1</td>\n",
       "      <td>2</td>\n",
       "      <td>3</td>\n",
       "      <td>5</td>\n",
       "      <td>...</td>\n",
       "      <td>3.0</td>\n",
       "      <td>3.0</td>\n",
       "      <td>1.0</td>\n",
       "      <td>0.0</td>\n",
       "      <td>1.0</td>\n",
       "      <td>4.0</td>\n",
       "      <td>4.0</td>\n",
       "      <td>3.0</td>\n",
       "      <td>5.0</td>\n",
       "      <td>2.0</td>\n",
       "    </tr>\n",
       "    <tr>\n",
       "      <th>3</th>\n",
       "      <td>2.0</td>\n",
       "      <td>4.0</td>\n",
       "      <td>2</td>\n",
       "      <td>2.0</td>\n",
       "      <td>4</td>\n",
       "      <td>2</td>\n",
       "      <td>5</td>\n",
       "      <td>2</td>\n",
       "      <td>1</td>\n",
       "      <td>2</td>\n",
       "      <td>...</td>\n",
       "      <td>2.0</td>\n",
       "      <td>2.0</td>\n",
       "      <td>2.0</td>\n",
       "      <td>0.0</td>\n",
       "      <td>1.0</td>\n",
       "      <td>3.0</td>\n",
       "      <td>4.0</td>\n",
       "      <td>2.0</td>\n",
       "      <td>3.0</td>\n",
       "      <td>3.0</td>\n",
       "    </tr>\n",
       "    <tr>\n",
       "      <th>4</th>\n",
       "      <td>NaN</td>\n",
       "      <td>3.0</td>\n",
       "      <td>1</td>\n",
       "      <td>5.0</td>\n",
       "      <td>4</td>\n",
       "      <td>3</td>\n",
       "      <td>4</td>\n",
       "      <td>1</td>\n",
       "      <td>3</td>\n",
       "      <td>2</td>\n",
       "      <td>...</td>\n",
       "      <td>2.0</td>\n",
       "      <td>4.0</td>\n",
       "      <td>2.0</td>\n",
       "      <td>1.0</td>\n",
       "      <td>2.0</td>\n",
       "      <td>3.0</td>\n",
       "      <td>3.0</td>\n",
       "      <td>4.0</td>\n",
       "      <td>6.0</td>\n",
       "      <td>5.0</td>\n",
       "    </tr>\n",
       "    <tr>\n",
       "      <th>5</th>\n",
       "      <td>3.0</td>\n",
       "      <td>1.0</td>\n",
       "      <td>2</td>\n",
       "      <td>2.0</td>\n",
       "      <td>3</td>\n",
       "      <td>1</td>\n",
       "      <td>5</td>\n",
       "      <td>2</td>\n",
       "      <td>2</td>\n",
       "      <td>5</td>\n",
       "      <td>...</td>\n",
       "      <td>2.0</td>\n",
       "      <td>3.0</td>\n",
       "      <td>1.0</td>\n",
       "      <td>1.0</td>\n",
       "      <td>1.0</td>\n",
       "      <td>5.0</td>\n",
       "      <td>5.0</td>\n",
       "      <td>2.0</td>\n",
       "      <td>3.0</td>\n",
       "      <td>3.0</td>\n",
       "    </tr>\n",
       "    <tr>\n",
       "      <th>6</th>\n",
       "      <td>NaN</td>\n",
       "      <td>2.0</td>\n",
       "      <td>2</td>\n",
       "      <td>5.0</td>\n",
       "      <td>1</td>\n",
       "      <td>5</td>\n",
       "      <td>1</td>\n",
       "      <td>5</td>\n",
       "      <td>4</td>\n",
       "      <td>3</td>\n",
       "      <td>...</td>\n",
       "      <td>3.0</td>\n",
       "      <td>3.0</td>\n",
       "      <td>1.0</td>\n",
       "      <td>0.0</td>\n",
       "      <td>1.0</td>\n",
       "      <td>5.0</td>\n",
       "      <td>5.0</td>\n",
       "      <td>4.0</td>\n",
       "      <td>6.0</td>\n",
       "      <td>3.0</td>\n",
       "    </tr>\n",
       "    <tr>\n",
       "      <th>7</th>\n",
       "      <td>NaN</td>\n",
       "      <td>1.0</td>\n",
       "      <td>1</td>\n",
       "      <td>3.0</td>\n",
       "      <td>3</td>\n",
       "      <td>3</td>\n",
       "      <td>4</td>\n",
       "      <td>1</td>\n",
       "      <td>3</td>\n",
       "      <td>2</td>\n",
       "      <td>...</td>\n",
       "      <td>3.0</td>\n",
       "      <td>3.0</td>\n",
       "      <td>1.0</td>\n",
       "      <td>0.0</td>\n",
       "      <td>1.0</td>\n",
       "      <td>4.0</td>\n",
       "      <td>4.0</td>\n",
       "      <td>2.0</td>\n",
       "      <td>5.0</td>\n",
       "      <td>2.0</td>\n",
       "    </tr>\n",
       "    <tr>\n",
       "      <th>8</th>\n",
       "      <td>NaN</td>\n",
       "      <td>3.0</td>\n",
       "      <td>1</td>\n",
       "      <td>3.0</td>\n",
       "      <td>4</td>\n",
       "      <td>4</td>\n",
       "      <td>2</td>\n",
       "      <td>4</td>\n",
       "      <td>2</td>\n",
       "      <td>2</td>\n",
       "      <td>...</td>\n",
       "      <td>2.0</td>\n",
       "      <td>3.0</td>\n",
       "      <td>2.0</td>\n",
       "      <td>1.0</td>\n",
       "      <td>1.0</td>\n",
       "      <td>3.0</td>\n",
       "      <td>3.0</td>\n",
       "      <td>2.0</td>\n",
       "      <td>4.0</td>\n",
       "      <td>3.0</td>\n",
       "    </tr>\n",
       "    <tr>\n",
       "      <th>9</th>\n",
       "      <td>NaN</td>\n",
       "      <td>3.0</td>\n",
       "      <td>2</td>\n",
       "      <td>4.0</td>\n",
       "      <td>2</td>\n",
       "      <td>4</td>\n",
       "      <td>2</td>\n",
       "      <td>3</td>\n",
       "      <td>5</td>\n",
       "      <td>4</td>\n",
       "      <td>...</td>\n",
       "      <td>2.0</td>\n",
       "      <td>3.0</td>\n",
       "      <td>2.0</td>\n",
       "      <td>1.0</td>\n",
       "      <td>1.0</td>\n",
       "      <td>3.0</td>\n",
       "      <td>3.0</td>\n",
       "      <td>2.0</td>\n",
       "      <td>3.0</td>\n",
       "      <td>1.0</td>\n",
       "    </tr>\n",
       "  </tbody>\n",
       "</table>\n",
       "<p>10 rows × 85 columns</p>\n",
       "</div>"
      ],
      "text/plain": [
       "   AGER_TYP  ALTERSKATEGORIE_GROB  ANREDE_KZ  CJT_GESAMTTYP  \\\n",
       "0       NaN                   2.0          1            2.0   \n",
       "1       NaN                   1.0          2            5.0   \n",
       "2       NaN                   3.0          2            3.0   \n",
       "3       2.0                   4.0          2            2.0   \n",
       "4       NaN                   3.0          1            5.0   \n",
       "5       3.0                   1.0          2            2.0   \n",
       "6       NaN                   2.0          2            5.0   \n",
       "7       NaN                   1.0          1            3.0   \n",
       "8       NaN                   3.0          1            3.0   \n",
       "9       NaN                   3.0          2            4.0   \n",
       "\n",
       "   FINANZ_MINIMALIST  FINANZ_SPARER  FINANZ_VORSORGER  FINANZ_ANLEGER  \\\n",
       "0                  3              4                 3               5   \n",
       "1                  1              5                 2               5   \n",
       "2                  1              4                 1               2   \n",
       "3                  4              2                 5               2   \n",
       "4                  4              3                 4               1   \n",
       "5                  3              1                 5               2   \n",
       "6                  1              5                 1               5   \n",
       "7                  3              3                 4               1   \n",
       "8                  4              4                 2               4   \n",
       "9                  2              4                 2               3   \n",
       "\n",
       "   FINANZ_UNAUFFAELLIGER  FINANZ_HAUSBAUER    ...     PLZ8_ANTG1  PLZ8_ANTG2  \\\n",
       "0                      5                 3    ...            NaN         NaN   \n",
       "1                      4                 5    ...            2.0         3.0   \n",
       "2                      3                 5    ...            3.0         3.0   \n",
       "3                      1                 2    ...            2.0         2.0   \n",
       "4                      3                 2    ...            2.0         4.0   \n",
       "5                      2                 5    ...            2.0         3.0   \n",
       "6                      4                 3    ...            3.0         3.0   \n",
       "7                      3                 2    ...            3.0         3.0   \n",
       "8                      2                 2    ...            2.0         3.0   \n",
       "9                      5                 4    ...            2.0         3.0   \n",
       "\n",
       "   PLZ8_ANTG3  PLZ8_ANTG4  PLZ8_BAUMAX  PLZ8_HHZ  PLZ8_GBZ  ARBEIT  \\\n",
       "0         NaN         NaN          NaN       NaN       NaN     NaN   \n",
       "1         2.0         1.0          1.0       5.0       4.0     3.0   \n",
       "2         1.0         0.0          1.0       4.0       4.0     3.0   \n",
       "3         2.0         0.0          1.0       3.0       4.0     2.0   \n",
       "4         2.0         1.0          2.0       3.0       3.0     4.0   \n",
       "5         1.0         1.0          1.0       5.0       5.0     2.0   \n",
       "6         1.0         0.0          1.0       5.0       5.0     4.0   \n",
       "7         1.0         0.0          1.0       4.0       4.0     2.0   \n",
       "8         2.0         1.0          1.0       3.0       3.0     2.0   \n",
       "9         2.0         1.0          1.0       3.0       3.0     2.0   \n",
       "\n",
       "   ORTSGR_KLS9  RELAT_AB  \n",
       "0          NaN       NaN  \n",
       "1          5.0       4.0  \n",
       "2          5.0       2.0  \n",
       "3          3.0       3.0  \n",
       "4          6.0       5.0  \n",
       "5          3.0       3.0  \n",
       "6          6.0       3.0  \n",
       "7          5.0       2.0  \n",
       "8          4.0       3.0  \n",
       "9          3.0       1.0  \n",
       "\n",
       "[10 rows x 85 columns]"
      ]
     },
     "execution_count": 77,
     "metadata": {},
     "output_type": "execute_result"
    }
   ],
   "source": [
    "azdias.head(10)"
   ]
  },
  {
   "cell_type": "code",
   "execution_count": 78,
   "metadata": {},
   "outputs": [
    {
     "name": "stdout",
     "output_type": "stream",
     "text": [
      "8373929\n"
     ]
    }
   ],
   "source": [
    "print(azdias.isnull().sum().sum())"
   ]
  },
  {
   "cell_type": "markdown",
   "metadata": {},
   "source": [
    "#### Step 1.1.2: Assess Missing Data in Each Column\n",
    "\n",
    "How much missing data is present in each column? There are a few columns that are outliers in terms of the proportion of values that are missing. You will want to use matplotlib's [`hist()`](https://matplotlib.org/api/_as_gen/matplotlib.pyplot.hist.html) function to visualize the distribution of missing value counts to find these columns. Identify and document these columns. While some of these columns might have justifications for keeping or re-encoding the data, for this project you should just remove them from the dataframe. (Feel free to make remarks about these outlier columns in the discussion, however!)\n",
    "\n",
    "For the remaining features, are there any patterns in which columns have, or share, missing data?"
   ]
  },
  {
   "cell_type": "code",
   "execution_count": 79,
   "metadata": {},
   "outputs": [
    {
     "data": {
      "text/plain": [
       "(array([ 32.,   0.,   0.,   7.,  21.,  16.,   1.,   2.,   0.,   0.,   0.,\n",
       "          0.,   0.,   1.,   0.,   0.,   0.,   1.,   0.,   0.,   0.,   1.,\n",
       "          0.,   0.,   0.,   0.,   1.,   0.,   0.,   0.,   1.,   0.,   0.,\n",
       "          0.,   0.,   0.,   0.,   0.,   0.,   1.]),\n",
       " array([  0.        ,   2.4939409 ,   4.98788179,   7.48182269,\n",
       "          9.97576359,  12.46970448,  14.96364538,  17.45758628,\n",
       "         19.95152717,  22.44546807,  24.93940897,  27.43334986,\n",
       "         29.92729076,  32.42123166,  34.91517256,  37.40911345,\n",
       "         39.90305435,  42.39699525,  44.89093614,  47.38487704,\n",
       "         49.87881794,  52.37275883,  54.86669973,  57.36064063,\n",
       "         59.85458152,  62.34852242,  64.84246332,  67.33640421,\n",
       "         69.83034511,  72.32428601,  74.8182269 ,  77.3121678 ,\n",
       "         79.8061087 ,  82.30004959,  84.79399049,  87.28793139,\n",
       "         89.78187229,  92.27581318,  94.76975408,  97.26369498,  99.75763587]),\n",
       " <a list of 40 Patch objects>)"
      ]
     },
     "execution_count": 79,
     "metadata": {},
     "output_type": "execute_result"
    },
    {
     "data": {
      "image/png": "[encoded data removed]",
      "text/plain": [
       "<matplotlib.figure.Figure at 0x7fbde2e93ba8>"
      ]
     },
     "metadata": {
      "needs_background": "light"
     },
     "output_type": "display_data"
    }
   ],
   "source": [
    "# Perform an assessment of how much missing data there is in each column of the\n",
    "# dataset.\n",
    "\n",
    "# Investigate patterns in the amount of missing data in each column.\n",
    "null_in_columns=(azdias.isnull().sum()/azdias.shape[0]*100).sort_values(ascending=False)\n",
    "null_in_columns\n",
    "plt.hist(null_in_columns,bins=40)\n"
   ]
  },
  {
   "cell_type": "code",
   "execution_count": 80,
   "metadata": {},
   "outputs": [],
   "source": [
    "# Remove the outlier columns from the dataset. (You'll perform other data\n",
    "# engineering tasks such as re-encoding and imputation later.)\n",
    "outliers = (null_in_columns[null_in_columns>20].index.tolist())"
   ]
  },
  {
   "cell_type": "code",
   "execution_count": 81,
   "metadata": {},
   "outputs": [],
   "source": [
    "azdias.drop(outliers, axis=1, inplace=True)"
   ]
  },
  {
   "cell_type": "code",
   "execution_count": 82,
   "metadata": {},
   "outputs": [
    {
     "name": "stdout",
     "output_type": "stream",
     "text": [
      "['TITEL_KZ', 'AGER_TYP', 'KK_KUNDENTYP', 'KBA05_BAUMAX', 'GEBURTSJAHR', 'ALTER_HH']\n",
      "(891221, 79)\n"
     ]
    }
   ],
   "source": [
    "print(outliers)\n",
    "print(azdias.shape)"
   ]
  },
  {
   "cell_type": "markdown",
   "metadata": {},
   "source": [
    "#### Discussion 1.1.2: Assess Missing Data in Each Column\n",
    "\n",
    "The histogram shows us that the data with more than 20% missingness are separated from the rest in the dataset. The remoed columns are ['TITEL_KZ', 'AGER_TYP', 'KK_KUNDENTYP', 'KBA05_BAUMAX', 'GEBURTSJAHR', 'ALTER_HH'] which has more than 20% missingness"
   ]
  },
  {
   "cell_type": "markdown",
   "metadata": {},
   "source": [
    "#### Step 1.1.3: Assess Missing Data in Each Row\n",
    "\n",
    "Now, you'll perform a similar assessment for the rows of the dataset. How much data is missing in each row? As with the columns, you should see some groups of points that have a very different numbers of missing values. Divide the data into two subsets: one for data points that are above some threshold for missing values, and a second subset for points below that threshold.\n",
    "\n",
    "In order to know what to do with the outlier rows, we should see if the distribution of data values on columns that are not missing data (or are missing very little data) are similar or different between the two groups. Select at least five of these columns and compare the distribution of values.\n",
    "- You can use seaborn's [`countplot()`](https://seaborn.pydata.org/generated/seaborn.countplot.html) function to create a bar chart of code frequencies and matplotlib's [`subplot()`](https://matplotlib.org/api/_as_gen/matplotlib.pyplot.subplot.html) function to put bar charts for the two subplots side by side.\n",
    "- To reduce repeated code, you might want to write a function that can perform this comparison, taking as one of its arguments a column to be compared.\n",
    "\n",
    "Depending on what you observe in your comparison, this will have implications on how you approach your conclusions later in the analysis. If the distributions of non-missing features look similar between the data with many missing values and the data with few or no missing values, then we could argue that simply dropping those points from the analysis won't present a major issue. On the other hand, if the data with many missing values looks very different from the data with few or no missing values, then we should make a note on those data as special. We'll revisit these data later on. **Either way, you should continue your analysis for now using just the subset of the data with few or no missing values.**"
   ]
  },
  {
   "cell_type": "code",
   "execution_count": 83,
   "metadata": {},
   "outputs": [
    {
     "data": {
      "image/png": "[encoded data removed]",
      "text/plain": [
       "<matplotlib.figure.Figure at 0x7fbde442ba20>"
      ]
     },
     "metadata": {
      "needs_background": "light"
     },
     "output_type": "display_data"
    }
   ],
   "source": [
    "# How much data is missing in each row of the dataset?\n",
    "missing_per_row =azdias.isnull().sum(axis=1)\n",
    "plt.hist(missing_per_row, bins=40)\n",
    "plt.ylabel('No of Rows')\n",
    "plt.xlabel('No of Missing Values')\n",
    "plt.show()\n"
   ]
  },
  {
   "cell_type": "code",
   "execution_count": 84,
   "metadata": {},
   "outputs": [
    {
     "name": "stdout",
     "output_type": "stream",
     "text": [
      "(93160, 79)\n"
     ]
    }
   ],
   "source": [
    "# Write code to divide the data into two subsets based on the number of missing\n",
    "# values in each row.\n",
    "data_missing_above30 = azdias[azdias.isnull().sum(axis=1) >= 30]\n",
    "data_missing_below30 = azdias[azdias.isnull().sum(axis=1) < 30]\n",
    "print(data_missing_above30.shape)"
   ]
  },
  {
   "cell_type": "code",
   "execution_count": 85,
   "metadata": {},
   "outputs": [
    {
     "name": "stdout",
     "output_type": "stream",
     "text": [
      "['FINANZTYP', 'GREEN_AVANTGARDE', 'FINANZ_HAUSBAUER', 'FINANZ_UNAUFFAELLIGER', 'FINANZ_ANLEGER', 'FINANZ_SPARER', 'FINANZ_MINIMALIST', 'ANREDE_KZ', 'FINANZ_VORSORGER', 'SEMIO_FAM', 'SEMIO_SOZ', 'SEMIO_REL', 'SEMIO_MAT', 'SEMIO_VERT', 'SEMIO_LUST', 'SEMIO_ERL', 'SEMIO_KULT', 'SEMIO_RAT', 'SEMIO_KRIT', 'SEMIO_DOM', 'SEMIO_KAEM', 'SEMIO_PFLICHT', 'SEMIO_TRADV', 'ZABEOTYP']\n"
     ]
    },
    {
     "data": {
      "image/png": "[encoded data removed]",
      "text/plain": [
       "<matplotlib.figure.Figure at 0x7fbde68727b8>"
      ]
     },
     "metadata": {
      "needs_background": "light"
     },
     "output_type": "display_data"
    },
    {
     "data": {
      "image/png": "[encoded data removed]",
      "text/plain": [
       "<matplotlib.figure.Figure at 0x7fbde725b748>"
      ]
     },
     "metadata": {
      "needs_background": "light"
     },
     "output_type": "display_data"
    },
    {
     "data": {
      "image/png": "[encoded data removed]",
      "text/plain": [
       "<matplotlib.figure.Figure at 0x7fbde35826a0>"
      ]
     },
     "metadata": {
      "needs_background": "light"
     },
     "output_type": "display_data"
    },
    {
     "data": {
      "image/png": "[encoded data removed]",
      "text/plain": [
       "<matplotlib.figure.Figure at 0x7fbde445cb00>"
      ]
     },
     "metadata": {
      "needs_background": "light"
     },
     "output_type": "display_data"
    },
    {
     "data": {
      "image/png": "[encoded data removed]",
      "text/plain": [
       "<matplotlib.figure.Figure at 0x7fbde339e748>"
      ]
     },
     "metadata": {
      "needs_background": "light"
     },
     "output_type": "display_data"
    }
   ],
   "source": [
    "# Compare the distribution of values for at least five columns where there are\n",
    "# no or few missing values, between the two subsets.\n",
    "no_nulls=[]\n",
    "for i in range(null_in_columns.shape[0]):\n",
    "    if(null_in_columns[i]==0):\n",
    "        no_nulls.append(null_in_columns.index[i])\n",
    "print(no_nulls)\n",
    "for i in range(5):\n",
    "    #no_null[i]\n",
    "    fig = plt.figure(10, figsize=(12,4))\n",
    "    \n",
    "    ax1 = fig.add_subplot(121)\n",
    "    ax1.title.set_text('Missing Rows>30')\n",
    "    sns.countplot(data_missing_above30[no_nulls[i]])\n",
    "    \n",
    "    ax2 = fig.add_subplot(122)\n",
    "    ax2.title.set_text('Missing Rows<30')\n",
    "    sns.countplot(data_missing_below30[no_nulls[i]])\n",
    "                                                       \n",
    "    fig.suptitle(i)\n",
    "    plt.show()\n",
    "\n"
   ]
  },
  {
   "cell_type": "markdown",
   "metadata": {},
   "source": [
    "#### Discussion 1.1.3: Assess Missing Data in Each Row\n",
    "\n",
    "I think its safe to take the data with missing percentage less than 30.These values with Nan can later be replaced with some imputation methods. The data with lots of missing values are qualitatively different from data with few or no missing values obviously since less missing data has more data which increases it's quality"
   ]
  },
  {
   "cell_type": "markdown",
   "metadata": {},
   "source": [
    "### Step 1.2: Select and Re-Encode Features\n",
    "\n",
    "Checking for missing data isn't the only way in which you can prepare a dataset for analysis. Since the unsupervised learning techniques to be used will only work on data that is encoded numerically, you need to make a few encoding changes or additional assumptions to be able to make progress. In addition, while almost all of the values in the dataset are encoded using numbers, not all of them represent numeric values. Check the third column of the feature summary (`feat_info`) for a summary of types of measurement.\n",
    "- For numeric and interval data, these features can be kept without changes.\n",
    "- Most of the variables in the dataset are ordinal in nature. While ordinal values may technically be non-linear in spacing, make the simplifying assumption that the ordinal variables can be treated as being interval in nature (that is, kept without any changes).\n",
    "- Special handling may be necessary for the remaining two variable types: categorical, and 'mixed'.\n",
    "\n",
    "In the first two parts of this sub-step, you will perform an investigation of the categorical and mixed-type features and make a decision on each of them, whether you will keep, drop, or re-encode each. Then, in the last part, you will create a new data frame with only the selected and engineered columns.\n",
    "\n",
    "Data wrangling is often the trickiest part of the data analysis process, and there's a lot of it to be done here. But stick with it: once you're done with this step, you'll be ready to get to the machine learning parts of the project!"
   ]
  },
  {
   "cell_type": "code",
   "execution_count": 86,
   "metadata": {},
   "outputs": [
    {
     "name": "stdout",
     "output_type": "stream",
     "text": [
      "ordinal        49\n",
      "categorical    18\n",
      "mixed           6\n",
      "numeric         6\n",
      "Name: type, dtype: int64\n"
     ]
    }
   ],
   "source": [
    "# How many features are there of each data type?\n",
    "data_missing_below30 = data_missing_below30.fillna(data_missing_below30.mode().iloc[0])\n",
    "feat_info = feat_info[feat_info.attribute.isin(list(azdias.columns.values))]\n",
    "print(feat_info['type'].value_counts())\n",
    "# print(feat_info.columns)"
   ]
  },
  {
   "cell_type": "markdown",
   "metadata": {},
   "source": [
    "#### Step 1.2.1: Re-Encode Categorical Features\n",
    "\n",
    "For categorical data, you would ordinarily need to encode the levels as dummy variables. Depending on the number of categories, perform one of the following:\n",
    "- For binary (two-level) categoricals that take numeric values, you can keep them without needing to do anything.\n",
    "- There is one binary variable that takes on non-numeric values. For this one, you need to re-encode the values as numbers or create a dummy variable.\n",
    "- For multi-level categoricals (three or more values), you can choose to encode the values using multiple dummy variables (e.g. via [OneHotEncoder](http://scikit-learn.org/stable/modules/generated/sklearn.preprocessing.OneHotEncoder.html)), or (to keep things straightforward) just drop them from the analysis. As always, document your choices in the Discussion section."
   ]
  },
  {
   "cell_type": "code",
   "execution_count": 87,
   "metadata": {},
   "outputs": [
    {
     "data": {
      "text/plain": [
       "2            ANREDE_KZ\n",
       "3        CJT_GESAMTTYP\n",
       "10           FINANZTYP\n",
       "12     GFK_URLAUBERTYP\n",
       "13    GREEN_AVANTGARDE\n",
       "17     LP_FAMILIE_FEIN\n",
       "18     LP_FAMILIE_GROB\n",
       "19      LP_STATUS_FEIN\n",
       "20      LP_STATUS_GROB\n",
       "21    NATIONALITAET_KZ\n",
       "38         SHOPPER_TYP\n",
       "39             SOHO_KZ\n",
       "41            VERS_TYP\n",
       "42            ZABEOTYP\n",
       "52         GEBAEUDETYP\n",
       "55         OST_WEST_KZ\n",
       "57     CAMEO_DEUG_2015\n",
       "58      CAMEO_DEU_2015\n",
       "Name: attribute, dtype: object"
      ]
     },
     "execution_count": 87,
     "metadata": {},
     "output_type": "execute_result"
    }
   ],
   "source": [
    "# Assess categorical variables: which are binary, which are multi-level, and\n",
    "# which one needs to be re-encoded?\n",
    "categorical=feat_info[feat_info.type=='categorical']['attribute']\n",
    "categorical"
   ]
  },
  {
   "cell_type": "code",
   "execution_count": 88,
   "metadata": {
    "scrolled": false
   },
   "outputs": [
    {
     "name": "stdout",
     "output_type": "stream",
     "text": [
      "['ANREDE_KZ', 'GREEN_AVANTGARDE', 'SOHO_KZ', 'VERS_TYP', 'OST_WEST_KZ']\n",
      "['CJT_GESAMTTYP', 'FINANZTYP', 'GFK_URLAUBERTYP', 'LP_FAMILIE_FEIN', 'LP_FAMILIE_GROB', 'LP_STATUS_FEIN', 'LP_STATUS_GROB', 'NATIONALITAET_KZ', 'SHOPPER_TYP', 'ZABEOTYP', 'GEBAEUDETYP', 'CAMEO_DEUG_2015', 'CAMEO_DEU_2015']\n"
     ]
    }
   ],
   "source": [
    "binary= []\n",
    "multi=[]\n",
    "for column in categorical.values:\n",
    "    if data_missing_below30[column].nunique() > 2:\n",
    "        multi.append(column)\n",
    "    else:\n",
    "        binary.append(column)\n",
    "print(binary)\n",
    "print(multi)"
   ]
  },
  {
   "cell_type": "code",
   "execution_count": 89,
   "metadata": {},
   "outputs": [
    {
     "name": "stdout",
     "output_type": "stream",
     "text": [
      "Unique values for ANREDE_KZ are [2 1]\n",
      "Unique values for GREEN_AVANTGARDE are [0 1]\n",
      "Unique values for SOHO_KZ are [ 1.  0.]\n",
      "Unique values for VERS_TYP are [ 2.  1.]\n",
      "Unique values for OST_WEST_KZ are ['W' 'O']\n",
      "2    416177\n",
      "1    381884\n",
      "Name: ANREDE_KZ, dtype: int64\n",
      "0    622836\n",
      "1    175225\n",
      "Name: GREEN_AVANTGARDE, dtype: int64\n",
      "0.0    791344\n",
      "1.0      6717\n",
      "Name: SOHO_KZ, dtype: int64\n",
      "2.0    430959\n",
      "1.0    367102\n",
      "Name: VERS_TYP, dtype: int64\n",
      "W    629520\n",
      "O    168541\n",
      "Name: OST_WEST_KZ, dtype: int64\n"
     ]
    }
   ],
   "source": [
    "for feature in binary:\n",
    "    print('Unique values for {} are {}'.format(feature, data_missing_below30[feature].unique()))\n",
    "for col in binary:\n",
    "    print(data_missing_below30[col].value_counts())"
   ]
  },
  {
   "cell_type": "code",
   "execution_count": 90,
   "metadata": {},
   "outputs": [],
   "source": [
    "# Re-encode categorical variable(s) to be kept in the analysis.\n",
    "\n",
    "multi.append('OST_WEST_KZ')\n",
    "\n",
    "data_missing_below30 = pd.get_dummies(data_missing_below30, columns=multi)"
   ]
  },
  {
   "cell_type": "code",
   "execution_count": 91,
   "metadata": {},
   "outputs": [
    {
     "data": {
      "text/plain": [
       "(798061, 195)"
      ]
     },
     "execution_count": 91,
     "metadata": {},
     "output_type": "execute_result"
    }
   ],
   "source": [
    "# for i in multi:\n",
    "#     azdias_new=azdias_new.drop(i,axis=1)\n",
    "data_missing_below30.shape"
   ]
  },
  {
   "cell_type": "code",
   "execution_count": 92,
   "metadata": {},
   "outputs": [],
   "source": [
    "azdias_new=data_missing_below30"
   ]
  },
  {
   "cell_type": "markdown",
   "metadata": {},
   "source": [
    "#### Discussion 1.2.1: Re-Encode Categorical Features\n",
    "\n",
    "Encoded Binary column OST_WEST with 0,1 and encoded multi categorical columns with onehotencoder"
   ]
  },
  {
   "cell_type": "markdown",
   "metadata": {},
   "source": [
    "#### Step 1.2.2: Engineer Mixed-Type Features\n",
    "\n",
    "There are a handful of features that are marked as \"mixed\" in the feature summary that require special treatment in order to be included in the analysis. There are two in particular that deserve attention; the handling of the rest are up to your own choices:\n",
    "- \"PRAEGENDE_JUGENDJAHRE\" combines information on three dimensions: generation by decade, movement (mainstream vs. avantgarde), and nation (east vs. west). While there aren't enough levels to disentangle east from west, you should create two new variables to capture the other two dimensions: an interval-type variable for decade, and a binary variable for movement.\n",
    "- \"CAMEO_INTL_2015\" combines information on two axes: wealth and life stage. Break up the two-digit codes by their 'tens'-place and 'ones'-place digits into two new ordinal variables (which, for the purposes of this project, is equivalent to just treating them as their raw numeric values).\n",
    "- If you decide to keep or engineer new features around the other mixed-type features, make sure you note your steps in the Discussion section.\n",
    "\n",
    "Be sure to check `Data_Dictionary.md` for the details needed to finish these tasks."
   ]
  },
  {
   "cell_type": "code",
   "execution_count": 93,
   "metadata": {},
   "outputs": [
    {
     "data": {
      "text/plain": [
       "(798061, 195)"
      ]
     },
     "execution_count": 93,
     "metadata": {},
     "output_type": "execute_result"
    }
   ],
   "source": [
    "azdias_new.shape"
   ]
  },
  {
   "cell_type": "code",
   "execution_count": 94,
   "metadata": {},
   "outputs": [],
   "source": [
    "# Investigate \"PRAEGENDE_JUGENDJAHRE\" and engineer two new variables.\n",
    "azdias_new.loc[azdias_new['PRAEGENDE_JUGENDJAHRE'].isin([1,3,5,8,10,12,14]),'MOVEMENT']=1\n",
    "azdias_new.loc[azdias_new['PRAEGENDE_JUGENDJAHRE'].isin([2,4,6,7,9,11,13,15]),'MOVEMENT']=2\n",
    "\n",
    "azdias_new.loc[azdias_new['PRAEGENDE_JUGENDJAHRE'].isin([7,12,13]),'NATION']=1\n",
    "azdias_new.loc[azdias_new['PRAEGENDE_JUGENDJAHRE'].isin([6,10,11]),'NATION']=2\n",
    "azdias_new.loc[azdias_new['PRAEGENDE_JUGENDJAHRE'].isin([1,2,3,4,5,8,9,14,15]),'NATION']=3\n",
    "\n",
    "\n",
    "#azdias_new['NATION'] = azdias_new['PRAEGENDE_JUGENDJAHRE']"
   ]
  },
  {
   "cell_type": "code",
   "execution_count": 95,
   "metadata": {},
   "outputs": [
    {
     "name": "stdout",
     "output_type": "stream",
     "text": [
      "# Data Dictionary for Identify Customer Segments Data\r\n",
      "\r\n",
      "## Introduction\r\n",
      "\r\n",
      "The data for this project consist of two files:\r\n",
      "\r\n",
      "- Udacity_AZDIAS_Subset.csv: demographics data for the general population of\r\n",
      "      Germany; 891211 persons (rows) x 85 features (columns)\r\n",
      "- Udacity_CUSTOMERS_Subset.csv: demographics data for customers of a mail-order\r\n",
      "      company; 191652 persons (rows) x 85 features (columns)\r\n",
      "\r\n",
      "The columns in the general demographics file and customers data file are the\r\n",
      "same. This file documents the features that appear in the data files, sorted in\r\n",
      "order of appearance. Sections of this file is based on the level of measurement\r\n",
      "of each feature. The file \"AZDIAS_Feature_Summary.csv\" contains a summary of\r\n",
      "feature attributes, including information level, data type, and codes for\r\n",
      "missing or unknown values.\r\n",
      "\r\n",
      "### Table of Contents\r\n",
      "\r\n",
      " 1. Person-level features\r\n",
      " 2. Household-level features\r\n",
      " 3. Building-level features\r\n",
      " 4. RR4 micro-cell features\r\n",
      " 5. RR3 micro-cell features\r\n",
      " 6. Postcode-level features\r\n",
      " 7. RR1 neighborhood features\r\n",
      " 8. PLZ8 macro-cell features\r\n",
      " 9. Community-level features\r\n",
      "\r\n",
      "-----\r\n",
      "\r\n",
      "## 1. Person-level features\r\n",
      "\r\n",
      "### 1.1. AGER_TYP\r\n",
      "Best-ager typology\r\n",
      "- -1: unknown\r\n",
      "-  0: no classification possible\r\n",
      "-  1: passive elderly\r\n",
      "-  2: cultural elderly\r\n",
      "-  3: experience-driven elderly\r\n",
      "\r\n",
      "### 1.2. ALTERSKATEGORIE_GROB\r\n",
      "Estimated age based on given name analysis\r\n",
      "- -1: unknown (missing)\r\n",
      "-  0: unknown (cannot be determined)\r\n",
      "-  1: < 30 years old\r\n",
      "-  2: 30 - 45 years old\r\n",
      "-  3: 46 - 60 years old\r\n",
      "-  4: > 60 years old\r\n",
      "-  9: uniformly distributed\r\n",
      "\r\n",
      "### 1.3. ANREDE_KZ\r\n",
      "Gender\r\n",
      "- -1: unknown (missing)\r\n",
      "-  0: unknown (cannot be determined)\r\n",
      "-  1: male\r\n",
      "-  2: female\r\n",
      "\r\n",
      "### 1.4. CJT_GESAMTTYP\r\n",
      "Customer-Journey-Typology: preferred information and buying channels for\r\n",
      "consumer\r\n",
      "- 0: unknown\r\n",
      "- 1: Advertising- and Consumptionminimalist\r\n",
      "- 2: Advertising- and Consumptiontraditionalist\r\n",
      "- 3: advertisinginterested Store-shopper\r\n",
      "- 4: advertisinginterested Online-shopper\r\n",
      "- 5: Advertising- and Cross-Channel-Enthusiast\r\n",
      "- 6: Advertising-Enthusiast with restricted Cross-Channel-Behaviour\r\n",
      "\r\n",
      "### 1.5. FINANZ_MINIMALIST, FINANZ_SPARER, FINANZ_VORSORGER, FINANZ_ANLEGER,\r\n",
      "###      FINANZ_UNAUFFAELLIGER, FINANZ_HAUSBAUER\r\n",
      "Financial typology, for each dimension:\r\n",
      "- -1: unknown\r\n",
      "-  1: very high\r\n",
      "-  2: high\r\n",
      "-  3: average\r\n",
      "-  4: low\r\n",
      "-  5: very low\r\n",
      "\r\n",
      "Dimension translations:\r\n",
      "- MINIMALIST: low financial interest\r\n",
      "- SPARER: money-saver\r\n",
      "- VORSORGER: be prepared\r\n",
      "- ANLEGER: investor\r\n",
      "- UNAUFFAELLIGER: inconspicuous\r\n",
      "- HAUSBAUER: home ownership\r\n",
      "\r\n",
      "### 1.6. FINANZTYP\r\n",
      "Most descriptive financial type for individual\r\n",
      "- -1: unknown\r\n",
      "-  1: low financial interest (MINIMALIST)\r\n",
      "-  2: money-saver (SPARER)\r\n",
      "-  3: home ownership (HAUSBAUER)\r\n",
      "-  4: be prepared (VORSORGER)\r\n",
      "-  5: investor (ANLEGER)\r\n",
      "-  6: inconspicuous (UNAUFFAELLIGER)\r\n",
      "\r\n",
      "### 1.7. GEBURTSJAHR\r\n",
      "Year of birth\r\n",
      "- missing data encoded as 0\r\n",
      "\r\n",
      "### 1.8. GFK_URLAUBERTYP\r\n",
      "Vacation habits\r\n",
      "-  1: Event travelers\r\n",
      "-  2: Family-oriented vacationists\r\n",
      "-  3: Winter sportspeople\r\n",
      "-  4: Culture lovers\r\n",
      "-  5: Nature fans\r\n",
      "-  6: Hiker\r\n",
      "-  7: Golden ager\r\n",
      "-  8: Homeland-connected vacationists\r\n",
      "-  9: Package tour travelers\r\n",
      "- 10: Connoisseurs\r\n",
      "- 11: Active families\r\n",
      "- 12: Without vacation\r\n",
      "\r\n",
      "### 1.9. GREEN_AVANTGARDE\r\n",
      "Membership in environmental sustainability as part of youth\r\n",
      "- 0: not a member of green avantgarde\r\n",
      "- 1: member of green avantgarde\r\n",
      "\r\n",
      "### 1.10. HEALTH_TYP\r\n",
      "Health typology\r\n",
      "- -1: unknown\r\n",
      "-  0: classification not possible\r\n",
      "-  1: critical reserved\r\n",
      "-  2: sanitary affine  \r\n",
      "-  3: jaunty hedonists\r\n",
      "\r\n",
      "### 1.11. LP_LEBENSPHASE_FEIN\r\n",
      "Life stage, fine scale\r\n",
      "-  1: single low-income earners of younger age\r\n",
      "-  2: single low-income earners of middle age\r\n",
      "-  3: single average earners of younger age\r\n",
      "-  4: single average earners of middle age\r\n",
      "-  5: single low-income earners of advanced age\r\n",
      "-  6: single low-income earners at retirement age\r\n",
      "-  7: single average earners of advanced age\r\n",
      "-  8: single average earners at retirement age\r\n",
      "-  9: single independent persons\r\n",
      "- 10: wealthy single homeowners\r\n",
      "- 11: single homeowners of advanced age\r\n",
      "- 12: single homeowners at retirement age\r\n",
      "- 13: single top earners of higher age\r\n",
      "- 14: low-income and average earner couples of younger age\r\n",
      "- 15: low-income earner couples of higher age\r\n",
      "- 16: average earner couples of higher age\r\n",
      "- 17: independent couples\r\n",
      "- 18: wealthy homeowner couples of younger age\r\n",
      "- 19: homeowner couples of higher age\r\n",
      "- 20: top earner couples of higher age\r\n",
      "- 21: single parent low-income earners\r\n",
      "- 22: single parent average earners\r\n",
      "- 23: single parent high-income earners\r\n",
      "- 24: low-income earner families\r\n",
      "- 25: average earner families\r\n",
      "- 26: independent families\r\n",
      "- 27: homeowner families\r\n",
      "- 28: top earner families\r\n",
      "- 29: low-income earners of younger age from multiperson households\r\n",
      "- 30: average earners of younger age from multiperson households\r\n",
      "- 31: low-income earners of higher age from multiperson households\r\n",
      "- 32: average earners of higher age from multiperson households\r\n",
      "- 33: independent persons of younger age from multiperson households\r\n",
      "- 34: homeowners of younger age from multiperson households\r\n",
      "- 35: top earners of younger age from multiperson households\r\n",
      "- 36: independent persons of higher age from multiperson households\r\n",
      "- 37: homeowners of advanced age from multiperson households\r\n",
      "- 38: homeowners at retirement age from multiperson households\r\n",
      "- 39: top earners of middle age from multiperson households\r\n",
      "- 40: top earners at retirement age from multiperson households\r\n",
      "\r\n",
      "### 1.12. LP_LEBENSPHASE_GROB\r\n",
      "Life stage, rough scale\r\n",
      "-  1: single low-income and average earners of younger age\r\n",
      "-  2: single low-income and average earners of higher age\r\n",
      "-  3: single high-income earners\r\n",
      "-  4: single low-income and average-earner couples\r\n",
      "-  5: single high-income earner couples\r\n",
      "-  6: single parents\r\n",
      "-  7: single low-income and average earner families\r\n",
      "-  8: high-income earner families\r\n",
      "-  9: average earners of younger age from multiperson households\r\n",
      "- 10: low-income and average earners of higher age from multiperson households\r\n",
      "- 11: high-income earners of younger age from multiperson households\r\n",
      "- 12: high-income earners of higher age from multiperson households\r\n",
      "\r\n",
      "### 1.13. LP_FAMILIE_FEIN\r\n",
      "Family type, fine scale\r\n",
      "-  0: unknown\r\n",
      "-  1: single\r\n",
      "-  2: couple\r\n",
      "-  3: young single parent\r\n",
      "-  4: single parent with teenager\r\n",
      "-  5: single parent with child of full age\r\n",
      "-  6: young family\r\n",
      "-  7: family with teenager\r\n",
      "-  8: family with child of full age\r\n",
      "-  9: shared flat\r\n",
      "- 10: two-generational household\r\n",
      "- 11: multi-generational household\r\n",
      "\r\n",
      "### 1.14. LP_FAMILIE_GROB\r\n",
      "Family type, rough scale\r\n",
      "- 0: unknown\r\n",
      "- 1: single (maps to 1 in fine scale)\r\n",
      "- 2: couple (maps to 2 in fine scale)\r\n",
      "- 3: single parent (maps to 3-5 in fine scale)\r\n",
      "- 4: family (maps to 6-8 in fine scale)\r\n",
      "- 5: multiperson household (maps to 9-11 in fine scale)\r\n",
      "\r\n",
      "### 1.15. LP_STATUS_FEIN\r\n",
      "Social status, fine scale\r\n",
      "-  1: typical low-income earners\r\n",
      "-  2: orientation-seeking low-income earners\r\n",
      "-  3: aspiring low-income earners\r\n",
      "-  4: villagers\r\n",
      "-  5: minimalistic high-income earners\r\n",
      "-  6: independent workers\r\n",
      "-  7: title holder-households\r\n",
      "-  8: new houseowners\r\n",
      "-  9: houseowners\r\n",
      "- 10: top earners\r\n",
      "\r\n",
      "### 1.16. LP_STATUS_GROB\r\n",
      "Social status, rough scale\r\n",
      "- 1: low-income earners (maps to 1-2 in fine scale)\r\n",
      "- 2: average earners (maps to 3-5 in fine scale)\r\n",
      "- 3: independents (maps to 6-7 in fine scale)\r\n",
      "- 4: houseowners (maps to 8-9 in fine scale)\r\n",
      "- 5: top earners (maps to 10 in fine scale)\r\n",
      "\r\n",
      "### 1.17. NATIONALITAET_KZ\r\n",
      "Nationality based on given name analysis\r\n",
      "- -1: unknown\r\n",
      "-  0: unknown\r\n",
      "-  1: German-sounding\r\n",
      "-  2: foreign-sounding\r\n",
      "-  3: assimilated names\r\n",
      "\r\n",
      "### 1.18. PRAEGENDE_JUGENDJAHRE\r\n",
      "Dominating movement of person's youth (avantgarde vs. mainstream; east vs. west)\r\n",
      "- -1: unknown\r\n",
      "-  0: unknown\r\n",
      "-  1: 40s - war years (Mainstream, E+W)\r\n",
      "-  2: 40s - reconstruction years (Avantgarde, E+W)\r\n",
      "-  3: 50s - economic miracle (Mainstream, E+W)\r\n",
      "-  4: 50s - milk bar / Individualisation (Avantgarde, E+W)\r\n",
      "-  5: 60s - economic miracle (Mainstream, E+W)\r\n",
      "-  6: 60s - generation 68 / student protestors (Avantgarde, W)\r\n",
      "-  7: 60s - opponents to the building of the Wall (Avantgarde, E)\r\n",
      "-  8: 70s - family orientation (Mainstream, E+W)\r\n",
      "-  9: 70s - peace movement (Avantgarde, E+W)\r\n",
      "- 10: 80s - Generation Golf (Mainstream, W)\r\n",
      "- 11: 80s - ecological awareness (Avantgarde, W)\r\n",
      "- 12: 80s - FDJ / communist party youth organisation (Mainstream, E)\r\n",
      "- 13: 80s - Swords into ploughshares (Avantgarde, E)\r\n",
      "- 14: 90s - digital media kids (Mainstream, E+W)\r\n",
      "- 15: 90s - ecological awareness (Avantgarde, E+W)\r\n",
      "\r\n",
      "### 1.19. RETOURTYP_BK_S\r\n",
      "Return type\r\n",
      "- 0: unknown\r\n",
      "- 1: influenceable Crazy-Shopper\r\n",
      "- 2: demanding Heavy-Returner\r\n",
      "- 3: incentive-receptive Normal-Returner\r\n",
      "- 4: conservative Low-Returner\r\n",
      "- 5: determined Minimal-Returner\r\n",
      "\r\n",
      "### 1.20. SEMIO_SOZ, SEMIO_FAM, SEMIO_REL, SEMIO_MAT, SEMIO_VERT, SEMIO_LUST,\r\n",
      "###       SEMIO_ERL, SEMIO_KULT, SEMIO_RAT, SEMIO_KRIT, SEMIO_DOM, SEMIO_KAEM,\r\n",
      "###       SEMIO_PFLICHT, SEMIO_TRADV\r\n",
      "Personality typology, for each dimension:\r\n",
      "- -1: unknown\r\n",
      "-  1: highest affinity\r\n",
      "-  2: very high affinity\r\n",
      "-  3: high affinity\r\n",
      "-  4: average affinity\r\n",
      "-  5: low affinity\r\n",
      "-  6: very low affinity\r\n",
      "-  7: lowest affinity\r\n",
      "-  9: unknown\r\n",
      "\r\n",
      "Dimension translations:\r\n",
      "- SOZ: socially-minded\r\n",
      "- FAM: family-minded\r\n",
      "- REL: religious\r\n",
      "- MAT: materialistic\r\n",
      "- VERT: dreamful\r\n",
      "- LUST: sensual-minded\r\n",
      "- ERL: event-oriented\r\n",
      "- KULT: cultural-minded\r\n",
      "- RAT: rational\r\n",
      "- KRIT: critical-minded\r\n",
      "- DOM: dominant-minded\r\n",
      "- KAEM: combative attitude\r\n",
      "- PFLICHT: dutiful\r\n",
      "- TRADV: tradional-minded\r\n",
      "\r\n",
      "### 1.21. SHOPPER_TYP\r\n",
      "Shopper typology\r\n",
      "- -1: unknown\r\n",
      "-  0: external supplied hedonists\r\n",
      "-  1: Shopping-stressed\r\n",
      "-  2: family-shopper\r\n",
      "-  3: demanding shopper\r\n",
      "\r\n",
      "### 1.22. SOHO_KZ\r\n",
      "Small office / home office flag\r\n",
      "- -1: unknown\r\n",
      "- 0: no small office/home office\r\n",
      "- 1: small office/home office\r\n",
      "\r\n",
      "### 1.23. TITEL_KZ\r\n",
      "Academic title flag\r\n",
      "- -1: unknown\r\n",
      "-  0: unknown\r\n",
      "-  1: Dr.\r\n",
      "-  2: Dr. Dr.\r\n",
      "-  3: Prof.\r\n",
      "-  4: Prof. Dr.\r\n",
      "-  5: other\r\n",
      "\r\n",
      "### 1.24. VERS_TYP\r\n",
      "Insurance typology\r\n",
      "- -1: unknown\r\n",
      "-  1: social-safety driven\r\n",
      "-  2: individualistic-accepting risks\r\n",
      "\r\n",
      "### 1.25. ZABEOTYP\r\n",
      "Energy consumption typology\r\n",
      "- -1: unknown\r\n",
      "-  1: green\r\n",
      "-  2: smart\r\n",
      "-  3: fair supplied\r\n",
      "-  4: price driven\r\n",
      "-  5: seeking orientation\r\n",
      "-  6: indifferent\r\n",
      "-  9: unknown\r\n",
      "\r\n",
      "-----\r\n",
      "\r\n",
      "## 2. Household-level features\r\n",
      "\r\n",
      "### 2.1. ALTER_HH\r\n",
      "Birthdate of head of household\r\n",
      "-  0: unknown / no main age detectable\r\n",
      "-  1: 1895-01-01 to 1899-12-31\r\n",
      "-  2: 1900-01-01 to 1904-12-31\r\n",
      "-  3: 1905-01-01 to 1909-12-31\r\n",
      "-  4: 1910-01-01 to 1914-12-31\r\n",
      "-  5: 1915-01-01 to 1919-12-31\r\n",
      "-  6: 1920-01-01 to 1924-12-31\r\n",
      "-  7: 1925-01-01 to 1929-12-31\r\n",
      "-  8: 1930-01-01 to 1934-12-31\r\n",
      "-  9: 1935-01-01 to 1939-12-31\r\n",
      "- 10: 1940-01-01 to 1944-12-31\r\n",
      "- 11: 1945-01-01 to 1949-12-31\r\n",
      "- 12: 1950-01-01 to 1954-12-31\r\n",
      "- 13: 1955-01-01 to 1959-12-31\r\n",
      "- 14: 1960-01-01 to 1964-12-31\r\n",
      "- 15: 1965-01-01 to 1969-12-31\r\n",
      "- 16: 1970-01-01 to 1974-12-31\r\n",
      "- 17: 1975-01-01 to 1979-12-31\r\n",
      "- 18: 1980-01-01 to 1984-12-31\r\n",
      "- 19: 1985-01-01 to 1989-12-31\r\n",
      "- 20: 1990-01-01 to 1994-12-31\r\n",
      "- 21: 1995-01-01 to 1999-12-31\r\n",
      "\r\n",
      "### 2.2. ANZ_PERSONEN\r\n",
      "Number of adults in household\r\n",
      "\r\n",
      "### 2.3. ANZ_TITEL\r\n",
      "Number of professional academic title holders in household\r\n",
      "\r\n",
      "### 2.4. HH_EINKOMMEN_SCORE\r\n",
      "Estimated household net income\r\n",
      "- -1: unknown\r\n",
      "-  0: unknown\r\n",
      "-  1: highest income\r\n",
      "-  2: very high income\r\n",
      "-  3: high income\r\n",
      "-  4: average income\r\n",
      "-  5: lower income\r\n",
      "-  6: very low income\r\n",
      "\r\n",
      "### 2.5. KK_KUNDENTYP\r\n",
      "Consumer pattern over past 12 months\r\n",
      "- -1: unknown\r\n",
      "-  1: regular customer\r\n",
      "-  2: active customer\r\n",
      "-  3: new costumer\r\n",
      "-  4: stray customer\r\n",
      "-  5: inactive customer\r\n",
      "-  6: passive customer\r\n",
      "\r\n",
      "### 2.6. W_KEIT_KIND_HH\r\n",
      "Likelihood of children in household\r\n",
      "- -1: unknown\r\n",
      "-  0: unknown\r\n",
      "-  1: most likely\r\n",
      "-  2: very likely\r\n",
      "-  3: likely\r\n",
      "-  4: average\r\n",
      "-  5: unlikely\r\n",
      "-  6: very unlikely\r\n",
      "\r\n",
      "### 2.7. WOHNDAUER_2008\r\n",
      "Length of residence\r\n",
      "- -1: unknown\r\n",
      "-  0: unknown\r\n",
      "-  1: length of residence less than 1 year\r\n",
      "-  2: length of residence 1-2 years\r\n",
      "-  3: length of residence 2-3 years\r\n",
      "-  4: length of residence 3-4 years\r\n",
      "-  5: length of residence 4-5 years\r\n",
      "-  6: length of residence 5-6 years\r\n",
      "-  7: length of residence 6-7 years\r\n",
      "-  8: length of residence 7-10 years\r\n",
      "-  9: length of residence more than 10 years\r\n",
      "\r\n",
      "-----\r\n",
      "\r\n",
      "## 3. Building-level features\r\n",
      "\r\n",
      "### 3.1. ANZ_HAUSHALTE_AKTIV\r\n",
      "Number of households in the building\r\n",
      "- missing values encoded by 0\r\n",
      "\r\n",
      "### 3.2. ANZ_HH_TITEL\r\n",
      "Number of professional academic title holders in building\r\n",
      "\r\n",
      "### 3.3. GEBAEUDETYP\r\n",
      "Type of building (residential vs. commercial)\r\n",
      "- -1: unknown\r\n",
      "-  0: unknown\r\n",
      "-  1: residential building\r\n",
      "-  2: residential building buildings without actually known household\r\n",
      "-  3: mixed (=residential and company) building\r\n",
      "-  4: mixed building without actually known household or company\r\n",
      "-  5: company building w/o known company\r\n",
      "-  6: mixed building without actually known household\r\n",
      "-  7: company building\r\n",
      "-  8: mixed building without actually known company\r\n",
      "\r\n",
      "### 3.4. KONSUMNAEHE\r\n",
      "Distance from building to point of sale (PoS)\r\n",
      "- 1: building is located in a 125 x 125m grid cell (RA1), which is a\r\n",
      "     consumption cell\r\n",
      "- 2: building is located in a 250 x 250m grid cell that includes at least one\r\n",
      "     RA1-consumption cell\r\n",
      "- 3: building is located in a 500 x 500m grid cell that includes at least one\r\n",
      "     RA1-consumption cell\r\n",
      "- 4: building is located in a 1 x 1km grid cell that includes at least one\r\n",
      "     RA1-consumption cell\r\n",
      "- 5: building is located in a 2 x 2km grid cell that includes at least one\r\n",
      "     RA1-consumption cell\r\n",
      "- 6: building is located in a 10 x 10km grid cell that includes at least one\r\n",
      "     RA1-consumption cell\r\n",
      "- 7: building is not located in a 10 x 10km range of a consumption cell\r\n",
      "\r\n",
      "### 3.5. MIN_GEBAEUDEJAHR\r\n",
      "First year building was mentioned in the database\r\n",
      "- missing values encoded by 0\r\n",
      "\r\n",
      "### 3.6. OST_WEST_KZ\r\n",
      "Building location via former East / West Germany (GDR / FRG)\r\n",
      "- -1: unknown\r\n",
      "-  O: East (GDR)\r\n",
      "-  W: West (FRG)\r\n",
      "\r\n",
      "### 3.7. WOHNLAGE\r\n",
      "Neighborhood quality (or rural flag)\r\n",
      "- -1: unknown\r\n",
      "-  0: no score calculated\r\n",
      "-  1: very good neighborhood\r\n",
      "-  2: good neighborhood\r\n",
      "-  3: average neighborhood\r\n",
      "-  4: poor neighborhood\r\n",
      "-  5: very poor neighborhood\r\n",
      "-  7: rural neighborhood\r\n",
      "-  8: new building in rural neighborhood\r\n",
      "\r\n",
      "-----\r\n",
      "\r\n",
      "## 4. RR4 micro-cell features\r\n",
      "\r\n",
      "### 4.1. CAMEO_DEUG_2015\r\n",
      "German CAMEO: Wealth / Life Stage Typology, rough scale\r\n",
      "- -1: unknown\r\n",
      "-  1: upper class\r\n",
      "-  2: upper middleclass\r\n",
      "-  3: established middleclass\r\n",
      "-  4: consumption-oriented middleclass\r\n",
      "-  5: active middleclass\r\n",
      "-  6: low-consumption middleclass\r\n",
      "-  7: lower middleclass\r\n",
      "-  8: working class\r\n",
      "-  9: urban working class\r\n",
      "-  X: unknown\r\n",
      "\r\n",
      "### 4.2. CAMEO_DEU_2015\r\n",
      "German CAMEO: Wealth / Life Stage Typology, detailed scale\r\n",
      "- 1A: Work-Life-Balance\r\n",
      "- 1B: Wealthy Best Ager\r\n",
      "- 1C: Successful Songwriter\r\n",
      "- 1D: Old Nobility\r\n",
      "- 1E: City Nobility\r\n",
      "- 2A: Cottage Chic\r\n",
      "- 2B: Noble Jogger\r\n",
      "- 2C: Established gourmet\r\n",
      "- 2D: Fine Management\r\n",
      "- 3A: Career & Family\r\n",
      "- 3B: Powershopping Families\r\n",
      "- 3C: Rural Neighborhood\r\n",
      "- 3D: Secure Retirement\r\n",
      "- 4A: Family Starter\r\n",
      "- 4B: Family Life\r\n",
      "- 4C: String Trimmer\r\n",
      "- 4D: Empty Nest\r\n",
      "- 4E: Golden Ager\r\n",
      "- 5A: Younger Employees\r\n",
      "- 5B: Suddenly Family\r\n",
      "- 5C: Family First\r\n",
      "- 5D: Stock Market Junkies\r\n",
      "- 5E: Coffee Rider\r\n",
      "- 5F: Active Retirement\r\n",
      "- 6A: Jobstarter\r\n",
      "- 6B: Petty Bourgeois\r\n",
      "- 6C: Long-established\r\n",
      "- 6D: Sportgardener\r\n",
      "- 6E: Urban Parents\r\n",
      "- 6F: Frugal Aging\r\n",
      "- 7A: Journeymen\r\n",
      "- 7B: Mantaplatte\r\n",
      "- 7C: Factory Worker\r\n",
      "- 7D: Rear Window\r\n",
      "- 7E: Interested Retirees\r\n",
      "- 8A: Multi-culteral\r\n",
      "- 8B: Young & Mobile\r\n",
      "- 8C: Prefab\r\n",
      "- 8D: Town Seniors\r\n",
      "- 9A: First Shared Apartment\r\n",
      "- 9B: Temporary Workers\r\n",
      "- 9C: Afternoon Talk Show\r\n",
      "- 9D: Mini-Jobber\r\n",
      "- 9E: Socking Away\r\n",
      "- XX: unknown\r\n",
      "\r\n",
      "### 4.3. CAMEO_INTL_2015\r\n",
      "German CAMEO: Wealth / Life Stage Typology, mapped to international code\r\n",
      "- -1: unknown\r\n",
      "- 11: Wealthy Households - Pre-Family Couples & Singles\r\n",
      "- 12: Wealthy Households - Young Couples With Children\r\n",
      "- 13: Wealthy Households - Families With School Age Children\r\n",
      "- 14: Wealthy Households - Older Families &  Mature Couples\r\n",
      "- 15: Wealthy Households - Elders In Retirement\r\n",
      "- 21: Prosperous Households - Pre-Family Couples & Singles\r\n",
      "- 22: Prosperous Households - Young Couples With Children\r\n",
      "- 23: Prosperous Households - Families With School Age Children\r\n",
      "- 24: Prosperous Households - Older Families & Mature Couples\r\n",
      "- 25: Prosperous Households - Elders In Retirement\r\n",
      "- 31: Comfortable Households - Pre-Family Couples & Singles\r\n",
      "- 32: Comfortable Households - Young Couples With Children\r\n",
      "- 33: Comfortable Households - Families With School Age Children\r\n",
      "- 34: Comfortable Households - Older Families & Mature Couples\r\n",
      "- 35: Comfortable Households - Elders In Retirement\r\n",
      "- 41: Less Affluent Households - Pre-Family Couples & Singles\r\n",
      "- 42: Less Affluent Households - Young Couples With Children\r\n",
      "- 43: Less Affluent Households - Families With School Age Children\r\n",
      "- 44: Less Affluent Households - Older Families & Mature Couples\r\n",
      "- 45: Less Affluent Households - Elders In Retirement\r\n",
      "- 51: Poorer Households - Pre-Family Couples & Singles\r\n",
      "- 52: Poorer Households - Young Couples With Children\r\n",
      "- 53: Poorer Households - Families With School Age Children\r\n",
      "- 54: Poorer Households - Older Families & Mature Couples\r\n",
      "- 55: Poorer Households - Elders In Retirement\r\n",
      "- XX: unknown\r\n",
      "\r\n",
      "-----\r\n",
      "\r\n",
      "## 5. RR3 micro-cell features\r\n",
      "\r\n",
      "### 5.1. KBA05_ANTG1\r\n",
      "Number of 1-2 family houses in the microcell\r\n",
      "- -1: unknown\r\n",
      "-  0: no 1-2 family homes\r\n",
      "-  1: lower share of 1-2 family homes\r\n",
      "-  2: average share of 1-2 family homes\r\n",
      "-  3: high share of 1-2 family homes\r\n",
      "-  4: very high share of 1-2 family homes\r\n",
      "\r\n",
      "### 5.2. KBA05_ANTG2\r\n",
      "Number of 3-5 family houses in the microcell\r\n",
      "- -1: unknown\r\n",
      "-  0: no 3-5 family homes\r\n",
      "-  1: lower share of 3-5 family homes\r\n",
      "-  2: average share of 3-5 family homes\r\n",
      "-  3: high share of 3-5 family homes\r\n",
      "-  4: very high share of 3-5 family homes\r\n",
      "\r\n",
      "### 5.3. KBA05_ANTG3\r\n",
      "Number of 6-10 family houses in the microcell\r\n",
      "- -1: unknown\r\n",
      "-  0: no 6-10 family homes\r\n",
      "-  1: lower share of 6-10 family homes\r\n",
      "-  2: average share of 6-10 family homes\r\n",
      "-  3: high share of 6-10 family homes\r\n",
      "\r\n",
      "### 5.4. KBA05_ANTG4\r\n",
      "Number of 10+ family houses in the microcell\r\n",
      "- -1: unknown\r\n",
      "-  0: no 10+ family homes\r\n",
      "-  1: lower share of 10+ family homes\r\n",
      "-  2: high share of 10+ family homes\r\n",
      "\r\n",
      "### 5.5. KBA05_BAUMAX\r\n",
      "Most common building type within the microcell\r\n",
      "- -1: unknown\r\n",
      "-  0: unknown\r\n",
      "-  1: mainly 1-2 family homes in the microcell\r\n",
      "-  2: mainly 3-5 family homes in the microcell\r\n",
      "-  3: mainly 6-10 family homes in the microcell\r\n",
      "-  4: mainly 10+ family homes in the microcell\r\n",
      "-  5: mainly business buildings in the microcell\r\n",
      "\r\n",
      "### 5.6. KBA05_GBZ\r\n",
      "Number of buildings in the microcell\r\n",
      "- -1: unknown\r\n",
      "-  0: unknown\r\n",
      "-  1: 1-2 buildings\r\n",
      "-  2: 3-4 buildings\r\n",
      "-  3: 5-16 buildings\r\n",
      "-  4: 17-22 buildings\r\n",
      "-  5: >=23 buildings\r\n",
      "\r\n",
      "-----\r\n",
      "\r\n",
      "## 6. Postcode-level features\r\n",
      "\r\n",
      "### 6.1. BALLRAUM\r\n",
      "Distance to nearest urban center\r\n",
      "- -1: unknown\r\n",
      "-  1: less than 10 km\r\n",
      "-  2: 10 -  20 km\r\n",
      "-  3: 20 -  30 km\r\n",
      "-  4: 30 -  40 km\r\n",
      "-  5: 40 -  50 km\r\n",
      "-  6: 50 - 100 km\r\n",
      "-  7: more than 100 km\r\n",
      "\r\n",
      "### 6.2. EWDICHTE\r\n",
      "Density of households per square kilometer\r\n",
      "- -1: unknown\r\n",
      "-  1: less than 34 households per km^2\r\n",
      "-  2:  34 -  89 households per km^2\r\n",
      "-  3:  90 - 149 households per km^2\r\n",
      "-  4: 150 - 319 households per km^2\r\n",
      "-  5: 320 - 999 households per km^2\r\n",
      "-  6: more than 999 households per km^2\r\n",
      "\r\n",
      "### 6.3. INNENSTADT\r\n",
      "Distance to city center (downtown)\r\n",
      "- -1: unknown\r\n",
      "-  1: in city center\r\n",
      "-  2: less than 3 km to city center\r\n",
      "-  3:  3 -  5 km to city center\r\n",
      "-  4:  5 - 10 km to city center\r\n",
      "-  5: 10 - 20 km to city center\r\n",
      "-  6: 20 - 30 km to city center\r\n",
      "-  7: 30 - 40 km to city center\r\n",
      "-  8: more than 40 km to city center\r\n",
      "\r\n",
      "-----\r\n",
      "\r\n",
      "## 7. RR1 region features\r\n",
      "\r\n",
      "### 7.1. GEBAEUDETYP_RASTER\r\n",
      "Ratio of residential to commercial activity\r\n",
      "- 1: business cell\r\n",
      "- 2: mixed cell with high business share\r\n",
      "- 3: mixed cell with middle business share\r\n",
      "- 4: mixed cell with low business share\r\n",
      "- 5: residential cell\r\n",
      "\r\n",
      "### 7.2. KKK\r\n",
      "Purchasing power in region\r\n",
      "- -1; unknown\r\n",
      "-  0: unknown\r\n",
      "-  1: very high\r\n",
      "-  2: high\r\n",
      "-  3: average\r\n",
      "-  4: low\r\n",
      "\r\n",
      "### 7.3. MOBI_REGIO\r\n",
      "Movement patterns\r\n",
      "- 1: very high movement\r\n",
      "- 2: high movement\r\n",
      "- 3: middle movement\r\n",
      "- 4: low movement\r\n",
      "- 5: very low movement\r\n",
      "- 6: none\r\n",
      "\r\n",
      "### 7.4. ONLINE_AFFINITAET\r\n",
      "Online affinity\r\n",
      "- 0: none\r\n",
      "- 1: low\r\n",
      "- 2: middle\r\n",
      "- 3: high\r\n",
      "- 4: very high\r\n",
      "- 5: highest\r\n",
      "\r\n",
      "### 7.5. REGIOTYP\r\n",
      "Neighborhood typology\r\n",
      "- -1: unknown\r\n",
      "-  0: unknown\r\n",
      "-  1: upper class\r\n",
      "-  2: conservatives\r\n",
      "-  3: upper middle class\r\n",
      "-  4: middle class\r\n",
      "-  5: lower middle class\r\n",
      "-  6: traditional workers\r\n",
      "-  7: marginal groups\r\n",
      "\r\n",
      "-----\r\n",
      "\r\n",
      "## 8. PLZ8 macro-cell features\r\n",
      "\r\n",
      "### 8.1. KBA13_ANZAHL_PKW\r\n",
      "Number of cars in the PLZ8 region\r\n",
      "\r\n",
      "### 8.2. PLZ8_ANTG1\r\n",
      "Number of 1-2 family houses in the PLZ8 region\r\n",
      "- -1: unknown\r\n",
      "-  0: no 1-2 family homes\r\n",
      "-  1: lower share of 1-2 family homes\r\n",
      "-  2: average share of 1-2 family homes\r\n",
      "-  3: high share of 1-2 family homes\r\n",
      "-  4: very high share of 1-2 family homes\r\n",
      "\r\n",
      "### 8.3. PLZ8_ANTG2\r\n",
      "Number of 3-5 family houses in the PLZ8 region\r\n",
      "- -1: unknown\r\n",
      "-  0: no 3-5 family homes\r\n",
      "-  1: lower share of 3-5 family homes\r\n",
      "-  2: average share of 3-5 family homes\r\n",
      "-  3: high share of 3-5 family homes\r\n",
      "-  4: very high share of 3-5 family homes\r\n",
      "\r\n",
      "### 8.4. PLZ8_ANTG3\r\n",
      "Number of 6-10 family houses in the PLZ8 region\r\n",
      "- -1: unknown\r\n",
      "-  0: no 6-10 family homes\r\n",
      "-  1: lower share of 6-10 family homes\r\n",
      "-  2: average share of 6-10 family homes\r\n",
      "-  3: high share of 6-10 family homes\r\n",
      "\r\n",
      "### 8.5. PLZ8_ANTG4\r\n",
      "Number of 10+ family houses in the PLZ8 region\r\n",
      "- -1: unknown\r\n",
      "-  0: no 10+ family homes\r\n",
      "-  1: lower share of 10+ family homes\r\n",
      "-  2: high share of 10+ family homes\r\n",
      "\r\n",
      "### 8.6. PLZ8_BAUMAX\r\n",
      "Most common building type within the PLZ8 region\r\n",
      "- -1: unknown\r\n",
      "-  0: unknown\r\n",
      "-  1: mainly 1-2 family homes\r\n",
      "-  2: mainly 3-5 family homes\r\n",
      "-  3: mainly 6-10 family homes\r\n",
      "-  4: mainly 10+ family homes\r\n",
      "-  5: mainly business buildings\r\n",
      "\r\n",
      "### 8.7. PLZ8_HHZ\r\n",
      "Number of households within the PLZ8 region\r\n",
      "- -1: unknown\r\n",
      "-  1: less than 130 households\r\n",
      "-  2: 131-299 households\r\n",
      "-  3: 300-599 households\r\n",
      "-  4: 600-849 households\r\n",
      "-  5: more than 849 households\r\n",
      "\r\n",
      "### 8.8. PLZ8_GBZ\r\n",
      "Number of buildings within the PLZ8 region\r\n",
      "- -1: unknown\r\n",
      "-  1: less than 60 buildings\r\n",
      "-  2:  60-129 buildings\r\n",
      "-  3: 130-299 buildings\r\n",
      "-  4: 300-449 buildings\r\n",
      "-  5: more than 449 buildings\r\n",
      "\r\n",
      "-----\r\n",
      "\r\n",
      "## 9. Community-level features\r\n",
      "\r\n",
      "### 9.1. ARBEIT\r\n",
      "Share of unemployment in community\r\n",
      "- -1: unknown\r\n",
      "-  1: very low\r\n",
      "-  2: low\r\n",
      "-  3: average\r\n",
      "-  4: high\r\n",
      "-  5: very high\r\n",
      "-  9: unknown\r\n",
      "\r\n",
      "### 9.2. ORTSGR_KLS9\r\n",
      "Size of community\r\n",
      "- -1: unknown\r\n",
      "-  1: <= 2,000 inhabitants\r\n",
      "-  2:   2,001 to   5,000 inhabitants\r\n",
      "-  3:   5,001 to  10,000 inhabitants\r\n",
      "-  4:  10,001 to  20,000 inhabitants\r\n",
      "-  5:  20,001 to  50,000 inhabitants\r\n",
      "-  6:  50,001 to 100,000 inhabitants\r\n",
      "-  7: 100,001 to 300,000 inhabitants\r\n",
      "-  8: 300,001 to 700,000 inhabitants\r\n",
      "-  9: > 700,000  inhabitants\r\n",
      "\r\n",
      "### 9.3. RELAT_AB\r\n",
      "Share of unemployment relative to county in which community is contained\r\n",
      "- -1: unknown\r\n",
      "-  1: very low\r\n",
      "-  2: low\r\n",
      "-  3: average\r\n",
      "-  4: high\r\n",
      "-  5: very high\r\n",
      "-  9: unknown\r\n"
     ]
    }
   ],
   "source": [
    "# Investigate \"CAMEO_INTL_2015\" and engineer two new variables.\n",
    "\n",
    "\n",
    "\n",
    "azdias_new.loc[azdias_new['CAMEO_INTL_2015'].isin(list(map(str,list((range(11,15+1)))))),'WEALTH']=1#list(range(11, 15+1))),'WEALTH']=1\n",
    "azdias_new.loc[azdias_new['CAMEO_INTL_2015'].isin(list(map(str,list((range(21,25+1)))))),'WEALTH']=2#list(range(21, 25+1))),'WEALTH']=2\n",
    "azdias_new.loc[azdias_new['CAMEO_INTL_2015'].isin(list(map(str,list((range(31,35+1)))))),'WEALTH']=3#list(range(31, 35+1))),'WEALTH']=3\n",
    "azdias_new.loc[azdias_new['CAMEO_INTL_2015'].isin(list(map(str,list((range(41,45+1)))))),'WEALTH']=4#list(range(41, 45+1))),'WEALTH']=4\n",
    "azdias_new.loc[azdias_new['CAMEO_INTL_2015'].isin(list(map(str,list((range(51,55+1)))))),'WEALTH']=5#list(range(51, 55+1))),'WEALTH']=5\n",
    "\n",
    "azdias_new.loc[azdias_new['CAMEO_INTL_2015'].isin(list(map(str,list((range(11,15+1)))))),'LIFE_STAGE']=1\n",
    "azdias_new.loc[azdias_new['CAMEO_INTL_2015'].isin(list(map(str,list((range(21,25+1)))))),'LIFE_STAGE']=2\n",
    "azdias_new.loc[azdias_new['CAMEO_INTL_2015'].isin(list(map(str,list((range(31,35+1)))))),'LIFE_STAGE']=3\n",
    "azdias_new.loc[azdias_new['CAMEO_INTL_2015'].isin(list(map(str,list((range(41,45+1)))))),'LIFE_STAGE']=4\n",
    "azdias_new.loc[azdias_new['CAMEO_INTL_2015'].isin(list(map(str,list((range(51,55+1)))))),'LIFE_STAGE']=5\n",
    "\n",
    "!cat Data_Dictionary.md"
   ]
  },
  {
   "cell_type": "code",
   "execution_count": 96,
   "metadata": {},
   "outputs": [],
   "source": [
    "#list(range(15, 55+1,10))"
   ]
  },
  {
   "cell_type": "markdown",
   "metadata": {},
   "source": [
    "#### Discussion 1.2.2: Engineer Mixed-Type Features\n",
    "\n",
    "Created four new columns from PRAEGENDE_JUGENDJAHRE and CAMEO_INTL_2015 columns based on the Movement,Nation,wealth and life stage\n",
    "\n",
    "\n",
    "(Double-click this cell and replace this text with your own text, reporting your findings and decisions regarding mixed-value features. Which ones did you keep, which did you drop, and what engineering steps did you perform?)"
   ]
  },
  {
   "cell_type": "markdown",
   "metadata": {},
   "source": [
    "#### Step 1.2.3: Complete Feature Selection\n",
    "\n",
    "In order to finish this step up, you need to make sure that your data frame now only has the columns that you want to keep. To summarize, the dataframe should consist of the following:\n",
    "- All numeric, interval, and ordinal type columns from the original dataset.\n",
    "- Binary categorical features (all numerically-encoded).\n",
    "- Engineered features from other multi-level categorical features and mixed features.\n",
    "\n",
    "Make sure that for any new columns that you have engineered, that you've excluded the original columns from the final dataset. Otherwise, their values will interfere with the analysis later on the project. For example, you should not keep \"PRAEGENDE_JUGENDJAHRE\", since its values won't be useful for the algorithm: only the values derived from it in the engineered features you created should be retained. As a reminder, your data should only be from **the subset with few or no missing values**."
   ]
  },
  {
   "cell_type": "code",
   "execution_count": 97,
   "metadata": {},
   "outputs": [
    {
     "name": "stdout",
     "output_type": "stream",
     "text": [
      "Index(['ALTERSKATEGORIE_GROB', 'ANREDE_KZ', 'FINANZ_MINIMALIST',\n",
      "       'FINANZ_SPARER', 'FINANZ_VORSORGER', 'FINANZ_ANLEGER',\n",
      "       'FINANZ_UNAUFFAELLIGER', 'FINANZ_HAUSBAUER', 'GREEN_AVANTGARDE',\n",
      "       'HEALTH_TYP',\n",
      "       ...\n",
      "       'CAMEO_DEU_2015_9B', 'CAMEO_DEU_2015_9C', 'CAMEO_DEU_2015_9D',\n",
      "       'CAMEO_DEU_2015_9E', 'OST_WEST_KZ_O', 'OST_WEST_KZ_W', 'MOVEMENT',\n",
      "       'NATION', 'WEALTH', 'LIFE_STAGE'],\n",
      "      dtype='object', length=197)\n",
      "(798061, 197)\n"
     ]
    }
   ],
   "source": [
    "azdias_new=azdias_new.drop('PRAEGENDE_JUGENDJAHRE',axis=1)\n",
    "azdias_new=azdias_new.drop('CAMEO_INTL_2015',axis=1)\n",
    "print(azdias_new.columns)\n",
    "print(azdias_new.shape)"
   ]
  },
  {
   "cell_type": "code",
   "execution_count": 98,
   "metadata": {},
   "outputs": [],
   "source": [
    "# If there are other re-engineering tasks you need to perform, make sure you\n",
    "# take care of them here. (Dealing with missing data will come in step 2.1.)\n",
    "# mixed_features = feat_info[feat_info[\"type\"]==\"mixed\"][\"attribute\"]\n",
    "# print(mixed_features)\n",
    "\n",
    "# for feature in mixed_features:\n",
    "#       azdias_new=azdias_new.drop(feature, axis=1, inplace=True)\n",
    "#azdias_new."
   ]
  },
  {
   "cell_type": "code",
   "execution_count": 99,
   "metadata": {},
   "outputs": [],
   "source": [
    "# Do whatever you need to in order to ensure that the dataframe only contains\n",
    "# the columns that should be passed to the algorithm functions.\n"
   ]
  },
  {
   "cell_type": "markdown",
   "metadata": {},
   "source": [
    "### Step 1.3: Create a Cleaning Function\n",
    "\n",
    "Even though you've finished cleaning up the general population demographics data, it's important to look ahead to the future and realize that you'll need to perform the same cleaning steps on the customer demographics data. In this substep, complete the function below to execute the main feature selection, encoding, and re-engineering steps you performed above. Then, when it comes to looking at the customer data in Step 3, you can just run this function on that DataFrame to get the trimmed dataset in a single step."
   ]
  },
  {
   "cell_type": "code",
   "execution_count": 100,
   "metadata": {},
   "outputs": [],
   "source": [
    "def clean_data(df):\n",
    "    \"\"\"\n",
    "    Perform feature trimming, re-encoding, and engineering for demographics\n",
    "    data\n",
    "    \n",
    "    INPUT: Demographics DataFrame\n",
    "    OUTPUT: Trimmed and cleaned demographics DataFrame\n",
    "    \"\"\"\n",
    "    \n",
    "    # Put in code here to execute all main cleaning steps:\n",
    "    # convert missing value codes into NaNs, ...\n",
    "    azdias=df\n",
    "    feat_info = pd.read_csv('AZDIAS_Feature_Summary.csv',delimiter=';')\n",
    "    for col in azdias.columns:\n",
    "        missing_values=feat_info[feat_info.attribute==col]['missing_or_unknown'].values\n",
    "#         print(missing_values)\n",
    "        missing_values=missing_values[0].strip('[]').split(',')\n",
    "        try:\n",
    "            missing_values=list(map(int,missing_values))\n",
    "        except ValueError:\n",
    "            missing_values1=[]\n",
    "            #missing_values=missing_values[0].strip('[]').split(',')\n",
    "            for i in missing_values:\n",
    "                if i!='X' and i!='XX' and i!='' and i!='[]':\n",
    "                    missing_values1.append(int(i))\n",
    "                else:\n",
    "                    missing_values1.append(i)\n",
    "            missing_values=missing_values1\n",
    "        if missing_values!=['']:\n",
    "            df[col]=df[col].replace(missing_values,np.nan)\n",
    "    null_values_per_feature =(df.isnull().sum()/df.shape[0]).sort_values(ascending=False)*100\n",
    "\n",
    "\n",
    "            \n",
    "    df = df.drop(outliers,axis=1)\n",
    "    \n",
    "    missing_value_rows = df.isnull()\n",
    "    total_missing_rows = missing_value_rows.sum(axis=1)\n",
    "    \n",
    "    clean_data_missing_above30 = df[df.isnull().sum(axis=1) >= 30]\n",
    "    clean_data_missing_below30 = df[df.isnull().sum(axis=1) < 30]\n",
    "\n",
    "    print('Rows with data missing above 30 :', clean_data_missing_above30.shape[0], 'or', \\\n",
    "      np.round(clean_data_missing_above30.shape[0]*100/df.shape[0],2), '% of all data')\n",
    "    \n",
    "    clean_data_missing_below30 = clean_data_missing_below30.fillna(clean_data_missing_below30.mode().iloc[0])\n",
    "    # select, re-encode, and engineer column values.\n",
    "    categorical_varibale = feat_info[feat_info.type=='categorical']\n",
    "#     multi_level = []\n",
    "#     binary = []\n",
    "#     c_clean = []\n",
    "#     for col in categorical_varibale:\n",
    "#         if col in clean_data_missing_below30.columns.values:\n",
    "#             c_clean.append(col)\n",
    "#     for column in c_clean:\n",
    "#         if clean_data_missing_below30[column].nunique() > 2:\n",
    "#             multi_level.append(column)\n",
    "#         else:\n",
    "#             binary.append(column)\n",
    "    \n",
    "#     for col in binary:\n",
    "#         print(clean_data_missing_below30[col].value_counts())\n",
    "\n",
    "#     #Except OST_WEST_KZ all are numnerial, Hence encoding OST_WEST_KZ along with multi level data\\\n",
    "#     multi_level.append('OST_WEST_KZ')\n",
    "    \n",
    "    clean_data_missing_below30 = pd.get_dummies(clean_data_missing_below30, columns=multi)\n",
    "    \n",
    "    clean_data_missing_below30.loc[clean_data_missing_below30['PRAEGENDE_JUGENDJAHRE'].isin([1,3,5,8,10,12,14]),'MOVEMENT']=1\n",
    "    clean_data_missing_below30.loc[clean_data_missing_below30['PRAEGENDE_JUGENDJAHRE'].isin([2,4,6,7,9,11,13,15]),'MOVEMENT']=2\n",
    "\n",
    "    clean_data_missing_below30.loc[clean_data_missing_below30['PRAEGENDE_JUGENDJAHRE'].isin([7,12,13]),'NATION']=1\n",
    "    clean_data_missing_below30.loc[clean_data_missing_below30['PRAEGENDE_JUGENDJAHRE'].isin([6,10,11]),'NATION']=2\n",
    "    clean_data_missing_below30.loc[clean_data_missing_below30['PRAEGENDE_JUGENDJAHRE'].isin([1,2,3,4,5,8,9,14,15]),'NATION']=3\n",
    "    clean_data_missing_below30.drop('PRAEGENDE_JUGENDJAHRE', axis=1, inplace=True)\n",
    "    \n",
    "    clean_data_missing_below30.loc[clean_data_missing_below30['CAMEO_INTL_2015'].isin(list(map(str,list((range(11,15+1)))))),'WEALTH']=1\n",
    "    clean_data_missing_below30.loc[clean_data_missing_below30['CAMEO_INTL_2015'].isin(list(map(str,list((range(21,25+1)))))),'WEALTH']=2\n",
    "    clean_data_missing_below30.loc[clean_data_missing_below30['CAMEO_INTL_2015'].isin(list(map(str,list((range(31,35+1)))))),'WEALTH']=3\n",
    "    clean_data_missing_below30.loc[clean_data_missing_below30['CAMEO_INTL_2015'].isin(list(map(str,list((range(41,45+1)))))),'WEALTH']=4\n",
    "    clean_data_missing_below30.loc[clean_data_missing_below30['CAMEO_INTL_2015'].isin(list(map(str,list((range(51,55+1)))))),'WEALTH']=5\n",
    "\n",
    "    clean_data_missing_below30.loc[clean_data_missing_below30['CAMEO_INTL_2015'].isin(list(map(str,list((range(11,15+1)))))),'LIFE_STAGE']=1\n",
    "    clean_data_missing_below30.loc[clean_data_missing_below30['CAMEO_INTL_2015'].isin(list(map(str,list((range(21,25+1)))))),'LIFE_STAGE']=2\n",
    "    clean_data_missing_below30.loc[clean_data_missing_below30['CAMEO_INTL_2015'].isin(list(map(str,list((range(31,35+1)))))),'LIFE_STAGE']=3\n",
    "    clean_data_missing_below30.loc[clean_data_missing_below30['CAMEO_INTL_2015'].isin(list(map(str,list((range(41,45+1)))))),'LIFE_STAGE']=4\n",
    "    clean_data_missing_below30.loc[clean_data_missing_below30['CAMEO_INTL_2015'].isin(list(map(str,list((range(51,55+1)))))),'LIFE_STAGE']=5\n",
    "\n",
    "    clean_data_missing_below30.drop('CAMEO_INTL_2015', axis=1, inplace=True)\n",
    "    # Return the cleaned dataframe.\n",
    "    \n",
    "    return clean_data_missing_below30\n",
    "#     null_in_feature=(azdias.isnull().sum()/azdias.shape[0]*100).sort_values(ascending=False)\n",
    "#     feat_info = feat_info[feat_info.attribute.isin(list(azdias.columns.values))]\n",
    "#     encoding = {'W': 0, 'O': 1}\n",
    "#     azdias_new = missing_lt_20.replace({'OST_WEST_KZ':encoding})\n",
    "#     azdias_new.loc[azdias_new['PRAEGENDE_JUGENDJAHRE'].isin([1,3,5,8,10,12,14]),'MOVEMENT']=1\n",
    "#     azdias_new.loc[azdias_new['PRAEGENDE_JUGENDJAHRE'].isin([2,4,6,7,9,11,13,15]),'MOVEMENT']=2\n",
    "\n",
    "#     azdias_new.loc[azdias_new['PRAEGENDE_JUGENDJAHRE'].isin([7,12,13]),'NATION']=1\n",
    "#     azdias_new.loc[azdias_new['PRAEGENDE_JUGENDJAHRE'].isin([6,10,11]),'NATION']=2\n",
    "#     azdias_new.loc[azdias_new['PRAEGENDE_JUGENDJAHRE'].isin([1,2,3,4,5,8,9,14,15]),'NATION']=3\n",
    "    \n",
    "#     azdias_new.loc[azdias_new['CAMEO_INTL_2015'].isin(list(range(11, 15+1))),'WEALTH']=1\n",
    "#     azdias_new.loc[azdias_new['CAMEO_INTL_2015'].isin(list(range(21, 25+1))),'WEALTH']=2\n",
    "#     azdias_new.loc[azdias_new['CAMEO_INTL_2015'].isin(list(range(31, 35+1))),'WEALTH']=3\n",
    "#     azdias_new.loc[azdias_new['CAMEO_INTL_2015'].isin(list(range(41, 45+1))),'WEALTH']=4\n",
    "#     azdias_new.loc[azdias_new['CAMEO_INTL_2015'].isin(list(range(51, 55+1))),'WEALTH']=5\n",
    "\n",
    "#     azdias_new.loc[azdias_new['CAMEO_INTL_2015'].isin(list(range(11, 55+1,10))),'LIFE_STAGE']=1\n",
    "#     azdias_new.loc[azdias_new['CAMEO_INTL_2015'].isin(list(range(12, 55+1,10))),'LIFE_STAGE']=2\n",
    "#     azdias_new.loc[azdias_new['CAMEO_INTL_2015'].isin(list(range(13, 55+1,10))),'LIFE_STAGE']=3\n",
    "#     azdias_new.loc[azdias_new['CAMEO_INTL_2015'].isin(list(range(14, 55+1,10))),'LIFE_STAGE']=4\n",
    "#     azdias_new.loc[azdias_new['CAMEO_INTL_2015'].isin(list(range(15, 55+1,10))),'LIFE_STAGE']=5\n",
    "#     drop_col=['ALTERSKATEGORIE_GROB', 'ANREDE_KZ', 'FINANZ_MINIMALIST',\n",
    "#        'FINANZ_SPARER', 'FINANZ_VORSORGER', 'FINANZ_ANLEGER',\n",
    "#        'FINANZ_UNAUFFAELLIGER', 'FINANZ_HAUSBAUER', 'GREEN_AVANTGARDE',\n",
    "#        'HEALTH_TYP', 'LP_LEBENSPHASE_FEIN', 'LP_LEBENSPHASE_GROB',\n",
    "#        'RETOURTYP_BK_S', 'SEMIO_SOZ', 'SEMIO_FAM', 'SEMIO_REL', 'SEMIO_MAT',\n",
    "#        'SEMIO_VERT', 'SEMIO_LUST', 'SEMIO_ERL', 'SEMIO_KULT', 'SEMIO_RAT',\n",
    "#        'SEMIO_KRIT', 'SEMIO_DOM', 'SEMIO_KAEM', 'SEMIO_PFLICHT', 'SEMIO_TRADV',\n",
    "#        'SOHO_KZ', 'VERS_TYP', 'ANZ_PERSONEN', 'ANZ_TITEL',\n",
    "#        'HH_EINKOMMEN_SCORE', 'W_KEIT_KIND_HH', 'WOHNDAUER_2008',\n",
    "#        'ANZ_HAUSHALTE_AKTIV', 'ANZ_HH_TITEL', 'KONSUMNAEHE',\n",
    "#        'MIN_GEBAEUDEJAHR', 'OST_WEST_KZ', 'WOHNLAGE', 'KBA05_ANTG1',\n",
    "#        'KBA05_ANTG2', 'KBA05_ANTG3', 'KBA05_ANTG4', 'KBA05_GBZ', 'BALLRAUM',\n",
    "#        'EWDICHTE', 'INNENSTADT', 'GEBAEUDETYP_RASTER', 'KKK', 'MOBI_REGIO',\n",
    "#        'ONLINE_AFFINITAET', 'REGIOTYP', 'KBA13_ANZAHL_PKW', 'PLZ8_ANTG1',\n",
    "#        'PLZ8_ANTG2', 'PLZ8_ANTG3', 'PLZ8_ANTG4', 'PLZ8_BAUMAX', 'PLZ8_HHZ',\n",
    "#        'PLZ8_GBZ', 'ARBEIT', 'ORTSGR_KLS9', 'RELAT_AB', 'MOVEMENT', 'NATION',\n",
    "#        'WEALTH', 'LIFE_STAGE']\n",
    "#     for i in azdias_new.columns:\n",
    "#         if i not in drop_col:\n",
    "#             azdias_new=azdias_new.drop(i,axis=1)\n",
    "#     return azdias_new"
   ]
  },
  {
   "cell_type": "markdown",
   "metadata": {},
   "source": [
    "## Step 2: Feature Transformation\n",
    "\n",
    "### Step 2.1: Apply Feature Scaling\n",
    "\n",
    "Before we apply dimensionality reduction techniques to the data, we need to perform feature scaling so that the principal component vectors are not influenced by the natural differences in scale for features. Starting from this part of the project, you'll want to keep an eye on the [API reference page for sklearn](http://scikit-learn.org/stable/modules/classes.html) to help you navigate to all of the classes and functions that you'll need. In this substep, you'll need to check the following:\n",
    "\n",
    "- sklearn requires that data not have missing values in order for its estimators to work properly. So, before applying the scaler to your data, make sure that you've cleaned the DataFrame of the remaining missing values. This can be as simple as just removing all data points with missing data, or applying an [Imputer](http://scikit-learn.org/stable/modules/generated/sklearn.preprocessing.Imputer.html) to replace all missing values. You might also try a more complicated procedure where you temporarily remove missing values in order to compute the scaling parameters before re-introducing those missing values and applying imputation. Think about how much missing data you have and what possible effects each approach might have on your analysis, and justify your decision in the discussion section below.\n",
    "- For the actual scaling function, a [StandardScaler](http://scikit-learn.org/stable/modules/generated/sklearn.preprocessing.StandardScaler.html) instance is suggested, scaling each feature to mean 0 and standard deviation 1.\n",
    "- For these classes, you can make use of the `.fit_transform()` method to both fit a procedure to the data as well as apply the transformation to the data at the same time. Don't forget to keep the fit sklearn objects handy, since you'll be applying them to the customer demographics data towards the end of the project."
   ]
  },
  {
   "cell_type": "code",
   "execution_count": 101,
   "metadata": {},
   "outputs": [
    {
     "data": {
      "text/plain": [
       "0"
      ]
     },
     "execution_count": 101,
     "metadata": {},
     "output_type": "execute_result"
    }
   ],
   "source": [
    "azdias_new.isnull().sum().sum()"
   ]
  },
  {
   "cell_type": "code",
   "execution_count": 102,
   "metadata": {},
   "outputs": [],
   "source": [
    "#azdias_new.shape\n",
    "#customers_new.shape"
   ]
  },
  {
   "cell_type": "code",
   "execution_count": 103,
   "metadata": {},
   "outputs": [],
   "source": [
    "# #azdias_new_imputed = azdias_new.fillna(azdias_new.mode().iloc[0])\n",
    "# azdias_new_imputed2=azdias_new.fillna(azdias_new.mode().iloc[0])\n",
    "# print(azdias_new_imputed2.shape)\n",
    "# print(azdias_new_imputed2.columns)\n",
    "# print(azdias_new_imputed2.isnull().sum().sum())\n",
    "# for feature in azdias_new_imputed2:\n",
    "#     print('Unique values for {} are {}'.format(feature, azdias_new_imputed2[feature].unique()))"
   ]
  },
  {
   "cell_type": "code",
   "execution_count": 104,
   "metadata": {},
   "outputs": [],
   "source": [
    "# azdias_new_imputed2.columns = azdias_new.columns\n",
    "# azdias_new_imputed2.index = azdias_new.index"
   ]
  },
  {
   "cell_type": "code",
   "execution_count": 105,
   "metadata": {},
   "outputs": [
    {
     "data": {
      "text/plain": [
       "0"
      ]
     },
     "execution_count": 105,
     "metadata": {},
     "output_type": "execute_result"
    }
   ],
   "source": [
    "# If you've not yet cleaned the dataset of all NaN values, then investigate and\n",
    "# do that now.\n",
    "from sklearn.preprocessing import Imputer\n",
    "fill_missing = Imputer(strategy='most_frequent')\n",
    "\n",
    "azdias_new_imputed1 = pd.DataFrame(fill_missing.fit_transform(azdias_new))\n",
    "azdias_new_imputed1.columns = azdias_new.columns\n",
    "azdias_new_imputed1.index = azdias_new.index\n",
    "azdias_new_imputed1.isnull().sum().sum()"
   ]
  },
  {
   "cell_type": "code",
   "execution_count": 106,
   "metadata": {},
   "outputs": [],
   "source": [
    "# #azdias_new_imputed.isnull().sum().sum()\n",
    "# azdias_new_imputed2.shape\n",
    "# set(customers_new.columns.values)-set(azdias_new.columns.values)\n",
    "# #set(azdias_new_imputed1.columns.values)-set(customers_new_imputed.columns.values)"
   ]
  },
  {
   "cell_type": "code",
   "execution_count": 107,
   "metadata": {},
   "outputs": [
    {
     "ename": "IndexError",
     "evalue": "only integers, slices (`:`), ellipsis (`...`), numpy.newaxis (`None`) and integer or boolean arrays are valid indices",
     "output_type": "error",
     "traceback": [
      "\u001b[0;31m---------------------------------------------------------------------------\u001b[0m",
      "\u001b[0;31mIndexError\u001b[0m                                Traceback (most recent call last)",
      "\u001b[0;32m<ipython-input-107-ffeffbef64a4>\u001b[0m in \u001b[0;36m<module>\u001b[0;34m()\u001b[0m\n\u001b[1;32m      3\u001b[0m \u001b[0mscaler\u001b[0m\u001b[0;34m=\u001b[0m\u001b[0mStandardScaler\u001b[0m\u001b[0;34m(\u001b[0m\u001b[0;34m)\u001b[0m\u001b[0;34m\u001b[0m\u001b[0m\n\u001b[1;32m      4\u001b[0m \u001b[0mazdias_new_scaled\u001b[0m\u001b[0;34m=\u001b[0m \u001b[0mscaler\u001b[0m\u001b[0;34m.\u001b[0m\u001b[0mfit_transform\u001b[0m\u001b[0;34m(\u001b[0m\u001b[0mazdias_new_imputed1\u001b[0m\u001b[0;34m)\u001b[0m\u001b[0;34m\u001b[0m\u001b[0m\n\u001b[0;32m----> 5\u001b[0;31m \u001b[0mazdias_new_scaled\u001b[0m\u001b[0;34m[\u001b[0m\u001b[0mlist\u001b[0m\u001b[0;34m(\u001b[0m\u001b[0mazdias_new_imputed1\u001b[0m\u001b[0;34m.\u001b[0m\u001b[0mcolumns\u001b[0m\u001b[0;34m)\u001b[0m\u001b[0;34m]\u001b[0m \u001b[0;34m=\u001b[0m \u001b[0mscaler\u001b[0m\u001b[0;34m.\u001b[0m\u001b[0mfit_transform\u001b[0m\u001b[0;34m(\u001b[0m\u001b[0mazdias_new_imputed1\u001b[0m\u001b[0;34m[\u001b[0m\u001b[0mlist\u001b[0m\u001b[0;34m(\u001b[0m\u001b[0mazdias_new_imputed1\u001b[0m\u001b[0;34m.\u001b[0m\u001b[0mcolumns\u001b[0m\u001b[0;34m)\u001b[0m\u001b[0;34m]\u001b[0m\u001b[0;34m)\u001b[0m\u001b[0;34m\u001b[0m\u001b[0m\n\u001b[0m",
      "\u001b[0;31mIndexError\u001b[0m: only integers, slices (`:`), ellipsis (`...`), numpy.newaxis (`None`) and integer or boolean arrays are valid indices"
     ]
    }
   ],
   "source": [
    "# Apply feature scaling to the general population demographics data.\n",
    "from sklearn.preprocessing import StandardScaler\n",
    "scaler=StandardScaler()\n",
    "azdias_new_scaled= scaler.fit_transform(azdias_new_imputed1)\n",
    "#azdias_new_scaled[list(azdias_new_imputed1.columns)] = scaler.fit_transform(azdias_new_imputed1[list(azdias_new_imputed1.columns)])"
   ]
  },
  {
   "cell_type": "code",
   "execution_count": 109,
   "metadata": {},
   "outputs": [
    {
     "ename": "AttributeError",
     "evalue": "'numpy.ndarray' object has no attribute 'columns'",
     "output_type": "error",
     "traceback": [
      "\u001b[0;31m---------------------------------------------------------------------------\u001b[0m",
      "\u001b[0;31mAttributeError\u001b[0m                            Traceback (most recent call last)",
      "\u001b[0;32m<ipython-input-109-de5e0b4b9562>\u001b[0m in \u001b[0;36m<module>\u001b[0;34m()\u001b[0m\n\u001b[0;32m----> 1\u001b[0;31m \u001b[0mazdias_new_scaled\u001b[0m\u001b[0;34m.\u001b[0m\u001b[0mcolumns\u001b[0m\u001b[0;34m\u001b[0m\u001b[0m\n\u001b[0m",
      "\u001b[0;31mAttributeError\u001b[0m: 'numpy.ndarray' object has no attribute 'columns'"
     ]
    }
   ],
   "source": [
    "azdias_new_scaled"
   ]
  },
  {
   "cell_type": "code",
   "execution_count": 110,
   "metadata": {},
   "outputs": [
    {
     "data": {
      "text/plain": [
       "array(['ALTERSKATEGORIE_GROB', 'ANREDE_KZ', 'FINANZ_MINIMALIST',\n",
       "       'FINANZ_SPARER', 'FINANZ_VORSORGER', 'FINANZ_ANLEGER',\n",
       "       'FINANZ_UNAUFFAELLIGER', 'FINANZ_HAUSBAUER', 'GREEN_AVANTGARDE',\n",
       "       'HEALTH_TYP', 'LP_LEBENSPHASE_FEIN', 'LP_LEBENSPHASE_GROB',\n",
       "       'RETOURTYP_BK_S', 'SEMIO_SOZ', 'SEMIO_FAM', 'SEMIO_REL',\n",
       "       'SEMIO_MAT', 'SEMIO_VERT', 'SEMIO_LUST', 'SEMIO_ERL', 'SEMIO_KULT',\n",
       "       'SEMIO_RAT', 'SEMIO_KRIT', 'SEMIO_DOM', 'SEMIO_KAEM',\n",
       "       'SEMIO_PFLICHT', 'SEMIO_TRADV', 'SOHO_KZ', 'VERS_TYP',\n",
       "       'ANZ_PERSONEN', 'ANZ_TITEL', 'HH_EINKOMMEN_SCORE', 'W_KEIT_KIND_HH',\n",
       "       'WOHNDAUER_2008', 'ANZ_HAUSHALTE_AKTIV', 'ANZ_HH_TITEL',\n",
       "       'KONSUMNAEHE', 'MIN_GEBAEUDEJAHR', 'WOHNLAGE', 'KBA05_ANTG1',\n",
       "       'KBA05_ANTG2', 'KBA05_ANTG3', 'KBA05_ANTG4', 'KBA05_GBZ',\n",
       "       'BALLRAUM', 'EWDICHTE', 'INNENSTADT', 'GEBAEUDETYP_RASTER', 'KKK',\n",
       "       'MOBI_REGIO', 'ONLINE_AFFINITAET', 'REGIOTYP', 'KBA13_ANZAHL_PKW',\n",
       "       'PLZ8_ANTG1', 'PLZ8_ANTG2', 'PLZ8_ANTG3', 'PLZ8_ANTG4',\n",
       "       'PLZ8_BAUMAX', 'PLZ8_HHZ', 'PLZ8_GBZ', 'ARBEIT', 'ORTSGR_KLS9',\n",
       "       'RELAT_AB', 'CJT_GESAMTTYP_1.0', 'CJT_GESAMTTYP_2.0',\n",
       "       'CJT_GESAMTTYP_3.0', 'CJT_GESAMTTYP_4.0', 'CJT_GESAMTTYP_5.0',\n",
       "       'CJT_GESAMTTYP_6.0', 'FINANZTYP_1', 'FINANZTYP_2', 'FINANZTYP_3',\n",
       "       'FINANZTYP_4', 'FINANZTYP_5', 'FINANZTYP_6', 'GFK_URLAUBERTYP_1.0',\n",
       "       'GFK_URLAUBERTYP_2.0', 'GFK_URLAUBERTYP_3.0', 'GFK_URLAUBERTYP_4.0',\n",
       "       'GFK_URLAUBERTYP_5.0', 'GFK_URLAUBERTYP_6.0', 'GFK_URLAUBERTYP_7.0',\n",
       "       'GFK_URLAUBERTYP_8.0', 'GFK_URLAUBERTYP_9.0',\n",
       "       'GFK_URLAUBERTYP_10.0', 'GFK_URLAUBERTYP_11.0',\n",
       "       'GFK_URLAUBERTYP_12.0', 'LP_FAMILIE_FEIN_1.0',\n",
       "       'LP_FAMILIE_FEIN_2.0', 'LP_FAMILIE_FEIN_3.0', 'LP_FAMILIE_FEIN_4.0',\n",
       "       'LP_FAMILIE_FEIN_5.0', 'LP_FAMILIE_FEIN_6.0', 'LP_FAMILIE_FEIN_7.0',\n",
       "       'LP_FAMILIE_FEIN_8.0', 'LP_FAMILIE_FEIN_9.0',\n",
       "       'LP_FAMILIE_FEIN_10.0', 'LP_FAMILIE_FEIN_11.0',\n",
       "       'LP_FAMILIE_GROB_1.0', 'LP_FAMILIE_GROB_2.0', 'LP_FAMILIE_GROB_3.0',\n",
       "       'LP_FAMILIE_GROB_4.0', 'LP_FAMILIE_GROB_5.0', 'LP_STATUS_FEIN_1.0',\n",
       "       'LP_STATUS_FEIN_2.0', 'LP_STATUS_FEIN_3.0', 'LP_STATUS_FEIN_4.0',\n",
       "       'LP_STATUS_FEIN_5.0', 'LP_STATUS_FEIN_6.0', 'LP_STATUS_FEIN_7.0',\n",
       "       'LP_STATUS_FEIN_8.0', 'LP_STATUS_FEIN_9.0', 'LP_STATUS_FEIN_10.0',\n",
       "       'LP_STATUS_GROB_1.0', 'LP_STATUS_GROB_2.0', 'LP_STATUS_GROB_3.0',\n",
       "       'LP_STATUS_GROB_4.0', 'LP_STATUS_GROB_5.0', 'NATIONALITAET_KZ_1.0',\n",
       "       'NATIONALITAET_KZ_2.0', 'NATIONALITAET_KZ_3.0', 'SHOPPER_TYP_0.0',\n",
       "       'SHOPPER_TYP_1.0', 'SHOPPER_TYP_2.0', 'SHOPPER_TYP_3.0',\n",
       "       'ZABEOTYP_1', 'ZABEOTYP_2', 'ZABEOTYP_3', 'ZABEOTYP_4',\n",
       "       'ZABEOTYP_5', 'ZABEOTYP_6', 'GEBAEUDETYP_1.0', 'GEBAEUDETYP_2.0',\n",
       "       'GEBAEUDETYP_3.0', 'GEBAEUDETYP_4.0', 'GEBAEUDETYP_5.0',\n",
       "       'GEBAEUDETYP_6.0', 'GEBAEUDETYP_8.0', 'CAMEO_DEUG_2015_1',\n",
       "       'CAMEO_DEUG_2015_2', 'CAMEO_DEUG_2015_3', 'CAMEO_DEUG_2015_4',\n",
       "       'CAMEO_DEUG_2015_5', 'CAMEO_DEUG_2015_6', 'CAMEO_DEUG_2015_7',\n",
       "       'CAMEO_DEUG_2015_8', 'CAMEO_DEUG_2015_9', 'CAMEO_DEU_2015_1A',\n",
       "       'CAMEO_DEU_2015_1B', 'CAMEO_DEU_2015_1C', 'CAMEO_DEU_2015_1D',\n",
       "       'CAMEO_DEU_2015_1E', 'CAMEO_DEU_2015_2A', 'CAMEO_DEU_2015_2B',\n",
       "       'CAMEO_DEU_2015_2C', 'CAMEO_DEU_2015_2D', 'CAMEO_DEU_2015_3A',\n",
       "       'CAMEO_DEU_2015_3B', 'CAMEO_DEU_2015_3C', 'CAMEO_DEU_2015_3D',\n",
       "       'CAMEO_DEU_2015_4A', 'CAMEO_DEU_2015_4B', 'CAMEO_DEU_2015_4C',\n",
       "       'CAMEO_DEU_2015_4D', 'CAMEO_DEU_2015_4E', 'CAMEO_DEU_2015_5A',\n",
       "       'CAMEO_DEU_2015_5B', 'CAMEO_DEU_2015_5C', 'CAMEO_DEU_2015_5D',\n",
       "       'CAMEO_DEU_2015_5E', 'CAMEO_DEU_2015_5F', 'CAMEO_DEU_2015_6A',\n",
       "       'CAMEO_DEU_2015_6B', 'CAMEO_DEU_2015_6C', 'CAMEO_DEU_2015_6D',\n",
       "       'CAMEO_DEU_2015_6E', 'CAMEO_DEU_2015_6F', 'CAMEO_DEU_2015_7A',\n",
       "       'CAMEO_DEU_2015_7B', 'CAMEO_DEU_2015_7C', 'CAMEO_DEU_2015_7D',\n",
       "       'CAMEO_DEU_2015_7E', 'CAMEO_DEU_2015_8A', 'CAMEO_DEU_2015_8B',\n",
       "       'CAMEO_DEU_2015_8C', 'CAMEO_DEU_2015_8D', 'CAMEO_DEU_2015_9A',\n",
       "       'CAMEO_DEU_2015_9B', 'CAMEO_DEU_2015_9C', 'CAMEO_DEU_2015_9D',\n",
       "       'CAMEO_DEU_2015_9E', 'OST_WEST_KZ_O', 'OST_WEST_KZ_W', 'MOVEMENT',\n",
       "       'NATION', 'WEALTH', 'LIFE_STAGE'], dtype=object)"
      ]
     },
     "execution_count": 110,
     "metadata": {},
     "output_type": "execute_result"
    }
   ],
   "source": [
    "azdias_new_scaled = pd.DataFrame(azdias_new_scaled, columns=list(azdias_new_imputed1))\n",
    "azdias_new_scaled.columns.values"
   ]
  },
  {
   "cell_type": "code",
   "execution_count": null,
   "metadata": {},
   "outputs": [],
   "source": []
  },
  {
   "cell_type": "markdown",
   "metadata": {},
   "source": [
    "### Discussion 2.1: Apply Feature Scaling\n",
    "\n",
    "Scaled the features"
   ]
  },
  {
   "cell_type": "markdown",
   "metadata": {},
   "source": [
    "### Step 2.2: Perform Dimensionality Reduction\n",
    "\n",
    "On your scaled data, you are now ready to apply dimensionality reduction techniques.\n",
    "\n",
    "- Use sklearn's [PCA](http://scikit-learn.org/stable/modules/generated/sklearn.decomposition.PCA.html) class to apply principal component analysis on the data, thus finding the vectors of maximal variance in the data. To start, you should not set any parameters (so all components are computed) or set a number of components that is at least half the number of features (so there's enough features to see the general trend in variability).\n",
    "- Check out the ratio of variance explained by each principal component as well as the cumulative variance explained. Try plotting the cumulative or sequential values using matplotlib's [`plot()`](https://matplotlib.org/api/_as_gen/matplotlib.pyplot.plot.html) function. Based on what you find, select a value for the number of transformed features you'll retain for the clustering part of the project.\n",
    "- Once you've made a choice for the number of components to keep, make sure you re-fit a PCA instance to perform the decided-on transformation."
   ]
  },
  {
   "cell_type": "code",
   "execution_count": 111,
   "metadata": {},
   "outputs": [
    {
     "data": {
      "text/plain": [
       "PCA(copy=True, iterated_power='auto', n_components=None, random_state=None,\n",
       "  svd_solver='auto', tol=0.0, whiten=False)"
      ]
     },
     "execution_count": 111,
     "metadata": {},
     "output_type": "execute_result"
    }
   ],
   "source": [
    "# Apply PCA to the data.\n",
    "from sklearn.decomposition import PCA\n",
    "pca=PCA()\n",
    "pca.fit(azdias_new_scaled)\n"
   ]
  },
  {
   "cell_type": "code",
   "execution_count": 112,
   "metadata": {},
   "outputs": [
    {
     "data": {
      "image/png": "[encoded data removed]",
      "text/plain": [
       "<matplotlib.figure.Figure at 0x7fbde33b0eb8>"
      ]
     },
     "metadata": {
      "needs_background": "light"
     },
     "output_type": "display_data"
    },
    {
     "data": {
      "image/png": "[encoded data removed]",
      "text/plain": [
       "<matplotlib.figure.Figure at 0x7fbde4fc8c88>"
      ]
     },
     "metadata": {
      "needs_background": "light"
     },
     "output_type": "display_data"
    }
   ],
   "source": [
    "# Investigate the variance accounted for by each principal component.\n",
    "plt.bar(range(len(pca.explained_variance_ratio_)), pca.explained_variance_ratio_)\n",
    "plt.title(\"Variance \")\n",
    "plt.xlabel(\"PCA\")\n",
    "plt.ylabel(\"Ratio of variance explained\")\n",
    "plt.show()\n",
    "plt.plot(range(len(pca.explained_variance_ratio_)),np.cumsum(pca.explained_variance_ratio_), '-')\n",
    "plt.title(\"Cumulative Variance Explained\")\n",
    "plt.xlabel(\"Number of Components\")\n",
    "plt.ylabel(\"Ratio of variance explained\")\n",
    "plt.show()"
   ]
  },
  {
   "cell_type": "code",
   "execution_count": 113,
   "metadata": {},
   "outputs": [],
   "source": [
    "# Re-apply PCA to the data while selecting for number of components to retain.\n",
    "\n",
    "pca_40= PCA(n_components=40)\n",
    "azdias_pca = pca_40.fit_transform(azdias_new_scaled)"
   ]
  },
  {
   "cell_type": "code",
   "execution_count": 114,
   "metadata": {},
   "outputs": [
    {
     "name": "stdout",
     "output_type": "stream",
     "text": [
      "[[ 3.99429875 -4.24454835 -3.18499337 ..., -1.43453074  0.72045786\n",
      "   2.96594442]\n",
      " [-0.41647094 -0.09958138 -3.22715269 ..., -1.36622176  1.98963347\n",
      "   0.25728433]\n",
      " [-4.211392    2.60457856 -1.68623488 ..., -0.09939113 -0.43748181\n",
      "   0.1358194 ]\n",
      " ..., \n",
      " [-0.77383071 -3.24184105 -3.89754648 ..., -0.85008799 -0.15080504\n",
      "  -0.09919062]\n",
      " [ 5.47005194 -5.18346082  2.82256697 ...,  1.46958288  0.72074113\n",
      "  -0.21982479]\n",
      " [ 1.18598527  2.20177452  1.59365637 ..., -0.8426394   0.35527394\n",
      "  -0.84720761]]\n"
     ]
    }
   ],
   "source": [
    "print(azdias_pca)"
   ]
  },
  {
   "cell_type": "markdown",
   "metadata": {},
   "source": [
    "### Discussion 2.2: Perform Dimensionality Reduction\n",
    "\n",
    "Selected 40 components since it has more than 90% of the data\n",
    "\n",
    "(Double-click this cell and replace this text with your own text, reporting your findings and decisions regarding dimensionality reduction. How many principal components / transformed features are you retaining for the next step of the analysis?)"
   ]
  },
  {
   "cell_type": "markdown",
   "metadata": {},
   "source": [
    "### Step 2.3: Interpret Principal Components\n",
    "\n",
    "Now that we have our transformed principal components, it's a nice idea to check out the weight of each variable on the first few components to see if they can be interpreted in some fashion.\n",
    "\n",
    "As a reminder, each principal component is a unit vector that points in the direction of highest variance (after accounting for the variance captured by earlier principal components). The further a weight is from zero, the more the principal component is in the direction of the corresponding feature. If two features have large weights of the same sign (both positive or both negative), then increases in one tend expect to be associated with increases in the other. To contrast, features with different signs can be expected to show a negative correlation: increases in one variable should result in a decrease in the other.\n",
    "\n",
    "- To investigate the features, you should map each weight to their corresponding feature name, then sort the features according to weight. The most interesting features for each principal component, then, will be those at the beginning and end of the sorted list. Use the data dictionary document to help you understand these most prominent features, their relationships, and what a positive or negative value on the principal component might indicate.\n",
    "- You should investigate and interpret feature associations from the first three principal components in this substep. To help facilitate this, you should write a function that you can call at any time to print the sorted list of feature weights, for the *i*-th principal component. This might come in handy in the next step of the project, when you interpret the tendencies of the discovered clusters."
   ]
  },
  {
   "cell_type": "code",
   "execution_count": 115,
   "metadata": {},
   "outputs": [
    {
     "name": "stdout",
     "output_type": "stream",
     "text": [
      "LP_STATUS_GROB_1.0      0.186964\n",
      "WEALTH                  0.183466\n",
      "LIFE_STAGE              0.183466\n",
      "HH_EINKOMMEN_SCORE      0.180703\n",
      "PLZ8_ANTG3              0.178607\n",
      "PLZ8_ANTG4              0.172804\n",
      "PLZ8_BAUMAX             0.169441\n",
      "ORTSGR_KLS9             0.152010\n",
      "EWDICHTE                0.149957\n",
      "FINANZ_HAUSBAUER        0.149522\n",
      "LP_STATUS_FEIN_1.0      0.127907\n",
      "KBA05_ANTG4             0.126845\n",
      "PLZ8_ANTG2              0.122512\n",
      "ANZ_HAUSHALTE_AKTIV     0.114061\n",
      "KBA05_ANTG3             0.113940\n",
      "ARBEIT                  0.113600\n",
      "CAMEO_DEUG_2015_9       0.109894\n",
      "RELAT_AB                0.105768\n",
      "LP_FAMILIE_FEIN_1.0     0.104160\n",
      "LP_FAMILIE_GROB_1.0     0.104160\n",
      "LP_STATUS_FEIN_2.0      0.101959\n",
      "FINANZTYP_1             0.094853\n",
      "CAMEO_DEUG_2015_8       0.090307\n",
      "FINANZ_SPARER           0.088945\n",
      "ZABEOTYP_5              0.066310\n",
      "GEBAEUDETYP_3.0         0.065662\n",
      "W_KEIT_KIND_HH          0.065091\n",
      "SEMIO_PFLICHT           0.061406\n",
      "CAMEO_DEU_2015_8A       0.060984\n",
      "SEMIO_REL               0.058082\n",
      "                          ...   \n",
      "ALTERSKATEGORIE_GROB   -0.059497\n",
      "WOHNLAGE               -0.061018\n",
      "FINANZ_VORSORGER       -0.061543\n",
      "CAMEO_DEUG_2015_3      -0.063679\n",
      "FINANZTYP_2            -0.065989\n",
      "ONLINE_AFFINITAET      -0.070555\n",
      "CAMEO_DEUG_2015_4      -0.073438\n",
      "LP_FAMILIE_GROB_5.0    -0.080307\n",
      "GEBAEUDETYP_1.0        -0.086323\n",
      "CAMEO_DEUG_2015_2      -0.089274\n",
      "BALLRAUM               -0.093718\n",
      "GEBAEUDETYP_RASTER     -0.095260\n",
      "ZABEOTYP_1             -0.096559\n",
      "ANZ_PERSONEN           -0.097869\n",
      "GREEN_AVANTGARDE       -0.100984\n",
      "MOVEMENT               -0.100984\n",
      "LP_STATUS_FEIN_9.0     -0.104666\n",
      "LP_STATUS_GROB_4.0     -0.106338\n",
      "LP_STATUS_GROB_5.0     -0.109781\n",
      "LP_STATUS_FEIN_10.0    -0.109781\n",
      "INNENSTADT             -0.124647\n",
      "LP_LEBENSPHASE_GROB    -0.131772\n",
      "PLZ8_GBZ               -0.131873\n",
      "KONSUMNAEHE            -0.133945\n",
      "LP_LEBENSPHASE_FEIN    -0.143849\n",
      "FINANZ_MINIMALIST      -0.173233\n",
      "KBA05_ANTG1            -0.174804\n",
      "KBA05_GBZ              -0.176097\n",
      "PLZ8_ANTG1             -0.180338\n",
      "MOBI_REGIO             -0.182101\n",
      "Name: 0, Length: 197, dtype: float64\n"
     ]
    }
   ],
   "source": [
    "# Map weights for the first principal component to corresponding feature names\n",
    "# and then print the linked values, sorted by weight.\n",
    "# HINT: Try defining a function here or in a new cell that you can reuse in the\n",
    "# other cells.\n",
    "\n",
    "def pca_weights(pca, i):\n",
    "    df = pd.DataFrame(pca.components_, columns=list(azdias_new_scaled.columns))\n",
    "    weights = df.iloc[i].sort_values(ascending=False)\n",
    "    return weights\n",
    "pca_weight_0 = pca_weights(pca_40, 0)\n",
    "print (pca_weight_0)"
   ]
  },
  {
   "cell_type": "code",
   "execution_count": 116,
   "metadata": {},
   "outputs": [
    {
     "name": "stdout",
     "output_type": "stream",
     "text": [
      "ALTERSKATEGORIE_GROB     0.249414\n",
      "FINANZ_VORSORGER         0.229502\n",
      "ZABEOTYP_3               0.206008\n",
      "SEMIO_ERL                0.194633\n",
      "SEMIO_LUST               0.173809\n",
      "RETOURTYP_BK_S           0.156851\n",
      "W_KEIT_KIND_HH           0.120896\n",
      "CJT_GESAMTTYP_2.0        0.116474\n",
      "FINANZ_MINIMALIST        0.112640\n",
      "FINANZTYP_2              0.103423\n",
      "FINANZTYP_5              0.095071\n",
      "SHOPPER_TYP_3.0          0.081665\n",
      "LP_STATUS_FEIN_1.0       0.078587\n",
      "NATIONALITAET_KZ_1.0     0.078370\n",
      "SEMIO_KRIT               0.078168\n",
      "CJT_GESAMTTYP_1.0        0.073507\n",
      "FINANZTYP_6              0.072667\n",
      "FINANZ_HAUSBAUER         0.066469\n",
      "LP_FAMILIE_FEIN_1.0      0.062982\n",
      "LP_FAMILIE_GROB_1.0      0.062982\n",
      "WOHNDAUER_2008           0.059878\n",
      "SEMIO_KAEM               0.059157\n",
      "GFK_URLAUBERTYP_4.0      0.057972\n",
      "LP_STATUS_FEIN_3.0       0.049800\n",
      "GFK_URLAUBERTYP_7.0      0.048258\n",
      "ANREDE_KZ                0.044489\n",
      "EWDICHTE                 0.042909\n",
      "ORTSGR_KLS9              0.041778\n",
      "PLZ8_ANTG3               0.039158\n",
      "LP_FAMILIE_FEIN_2.0      0.038885\n",
      "                           ...   \n",
      "CJT_GESAMTTYP_6.0       -0.046526\n",
      "LP_FAMILIE_GROB_3.0     -0.049556\n",
      "ZABEOTYP_1              -0.050476\n",
      "SHOPPER_TYP_0.0         -0.051019\n",
      "NATIONALITAET_KZ_3.0    -0.053938\n",
      "NATIONALITAET_KZ_2.0    -0.054805\n",
      "CJT_GESAMTTYP_4.0       -0.056752\n",
      "HEALTH_TYP              -0.058061\n",
      "ANZ_PERSONEN            -0.063083\n",
      "LP_FAMILIE_GROB_4.0     -0.068043\n",
      "FINANZTYP_3             -0.068686\n",
      "SEMIO_SOZ               -0.072111\n",
      "GFK_URLAUBERTYP_9.0     -0.075287\n",
      "LP_STATUS_FEIN_5.0      -0.078994\n",
      "FINANZTYP_4             -0.089128\n",
      "ZABEOTYP_5              -0.098261\n",
      "LP_STATUS_FEIN_2.0      -0.109124\n",
      "ZABEOTYP_4              -0.113862\n",
      "SEMIO_MAT               -0.143544\n",
      "FINANZTYP_1             -0.147459\n",
      "SEMIO_FAM               -0.149481\n",
      "ONLINE_AFFINITAET       -0.158719\n",
      "SEMIO_RAT               -0.179623\n",
      "SEMIO_KULT              -0.180140\n",
      "FINANZ_ANLEGER          -0.210039\n",
      "SEMIO_PFLICHT           -0.221306\n",
      "FINANZ_UNAUFFAELLIGER   -0.221778\n",
      "SEMIO_TRADV             -0.221872\n",
      "SEMIO_REL               -0.232481\n",
      "FINANZ_SPARER           -0.242737\n",
      "Name: 1, Length: 197, dtype: float64\n"
     ]
    }
   ],
   "source": [
    "# Map weights for the second principal component to corresponding feature names\n",
    "# and then print the linked values, sorted by weight.\n",
    "pca_weight_1 = pca_weights(pca_40, 1)\n",
    "print (pca_weight_1)"
   ]
  },
  {
   "cell_type": "code",
   "execution_count": 117,
   "metadata": {},
   "outputs": [
    {
     "name": "stdout",
     "output_type": "stream",
     "text": [
      "SEMIO_VERT               0.311568\n",
      "SEMIO_SOZ                0.250011\n",
      "SEMIO_FAM                0.246882\n",
      "SEMIO_KULT               0.237410\n",
      "FINANZTYP_5              0.142402\n",
      "FINANZ_MINIMALIST        0.136155\n",
      "ZABEOTYP_1               0.120980\n",
      "SHOPPER_TYP_0.0          0.117593\n",
      "SEMIO_REL                0.100012\n",
      "GREEN_AVANTGARDE         0.099690\n",
      "MOVEMENT                 0.099690\n",
      "ORTSGR_KLS9              0.082532\n",
      "EWDICHTE                 0.081698\n",
      "SEMIO_MAT                0.080386\n",
      "RETOURTYP_BK_S           0.079058\n",
      "LP_STATUS_GROB_5.0       0.074679\n",
      "LP_STATUS_FEIN_10.0      0.074679\n",
      "PLZ8_BAUMAX              0.060757\n",
      "PLZ8_ANTG4               0.059277\n",
      "PLZ8_ANTG3               0.058726\n",
      "FINANZ_VORSORGER         0.053748\n",
      "LP_STATUS_FEIN_3.0       0.050275\n",
      "ZABEOTYP_6               0.046686\n",
      "W_KEIT_KIND_HH           0.045651\n",
      "RELAT_AB                 0.043914\n",
      "LP_STATUS_FEIN_1.0       0.043214\n",
      "PLZ8_ANTG2               0.042671\n",
      "ARBEIT                   0.041670\n",
      "LP_STATUS_GROB_3.0       0.038580\n",
      "GEBAEUDETYP_3.0          0.033054\n",
      "                           ...   \n",
      "SEMIO_PFLICHT           -0.032704\n",
      "ZABEOTYP_3              -0.034723\n",
      "LP_STATUS_GROB_2.0      -0.037647\n",
      "LP_FAMILIE_FEIN_4.0     -0.038258\n",
      "PLZ8_GBZ                -0.039446\n",
      "SHOPPER_TYP_3.0         -0.042308\n",
      "GEBAEUDETYP_RASTER      -0.045296\n",
      "KKK                     -0.049409\n",
      "HH_EINKOMMEN_SCORE      -0.050570\n",
      "FINANZ_UNAUFFAELLIGER   -0.052280\n",
      "LP_FAMILIE_GROB_3.0     -0.053567\n",
      "PLZ8_ANTG1              -0.053786\n",
      "KONSUMNAEHE             -0.057203\n",
      "WOHNLAGE                -0.058369\n",
      "BALLRAUM                -0.064147\n",
      "FINANZ_HAUSBAUER        -0.064161\n",
      "FINANZ_SPARER           -0.064430\n",
      "ZABEOTYP_4              -0.065595\n",
      "INNENSTADT              -0.071082\n",
      "LP_STATUS_FEIN_2.0      -0.083787\n",
      "LP_STATUS_FEIN_4.0      -0.085934\n",
      "SHOPPER_TYP_2.0         -0.090017\n",
      "FINANZTYP_1             -0.106570\n",
      "SEMIO_RAT               -0.157080\n",
      "FINANZ_ANLEGER          -0.164595\n",
      "SEMIO_ERL               -0.195948\n",
      "SEMIO_KRIT              -0.261086\n",
      "SEMIO_DOM               -0.269399\n",
      "SEMIO_KAEM              -0.300779\n",
      "ANREDE_KZ               -0.334199\n",
      "Name: 2, Length: 197, dtype: float64\n"
     ]
    }
   ],
   "source": [
    "# Map weights for the third principal component to corresponding feature names\n",
    "# and then print the linked values, sorted by weight.\n",
    "pca_weight_1 = pca_weights(pca_40, 2)\n",
    "print (pca_weight_1)"
   ]
  },
  {
   "cell_type": "markdown",
   "metadata": {},
   "source": [
    "### Discussion 2.3: Interpret Principal Components\n",
    "1) LP_STATUS_GROB_1.0 and WEALTH have positive correlation. Pca_weight0 represents personel income and the larger family capacity based on the features of LP_STATUS_GROB_1, FINANZ_SPARER,FINANZ_HAUSBAUER, PLZ8_ANTG3 and PLZ_ANTG4\n",
    "\n",
    "2) pca_weight1 relates to the age from SEMIO_LUST,ALTERSKATEGORIE_GROB.SEMIO_KRIT and SEMIO_ERL.\n",
    "\n",
    "3) Pca_weight2 reprents household income and community unemployment rate from the following columns HH_EINKOMMEN_SCORE,ARBEIT,ORTSGR_KLS9 and RELAT_AB\n",
    "\n",
    "(Double-click this cell and replace this text with your own text, reporting your observations from detailed investigation of the first few principal components generated. Can we interpret positive and negative values from them in a meaningful way?)"
   ]
  },
  {
   "cell_type": "markdown",
   "metadata": {},
   "source": [
    "## Step 3: Clustering\n",
    "\n",
    "### Step 3.1: Apply Clustering to General Population\n",
    "\n",
    "You've assessed and cleaned the demographics data, then scaled and transformed them. Now, it's time to see how the data clusters in the principal components space. In this substep, you will apply k-means clustering to the dataset and use the average within-cluster distances from each point to their assigned cluster's centroid to decide on a number of clusters to keep.\n",
    "\n",
    "- Use sklearn's [KMeans](http://scikit-learn.org/stable/modules/generated/sklearn.cluster.KMeans.html#sklearn.cluster.KMeans) class to perform k-means clustering on the PCA-transformed data.\n",
    "- Then, compute the average difference from each point to its assigned cluster's center. **Hint**: The KMeans object's `.score()` method might be useful here, but note that in sklearn, scores tend to be defined so that larger is better. Try applying it to a small, toy dataset, or use an internet search to help your understanding.\n",
    "- Perform the above two steps for a number of different cluster counts. You can then see how the average distance decreases with an increasing number of clusters. However, each additional cluster provides a smaller net benefit. Use this fact to select a final number of clusters in which to group the data. **Warning**: because of the large size of the dataset, it can take a long time for the algorithm to resolve. The more clusters to fit, the longer the algorithm will take. You should test for cluster counts through at least 10 clusters to get the full picture, but you shouldn't need to test for a number of clusters above about 30.\n",
    "- Once you've selected a final number of clusters to use, re-fit a KMeans instance to perform the clustering operation. Make sure that you also obtain the cluster assignments for the general demographics data, since you'll be using them in the final Step 3.3."
   ]
  },
  {
   "cell_type": "code",
   "execution_count": 118,
   "metadata": {},
   "outputs": [
    {
     "name": "stdout",
     "output_type": "stream",
     "text": [
      "j\n"
     ]
    }
   ],
   "source": [
    "print(\"j\")"
   ]
  },
  {
   "cell_type": "code",
   "execution_count": 119,
   "metadata": {},
   "outputs": [
    {
     "name": "stdout",
     "output_type": "stream",
     "text": [
      "5\n",
      "6\n",
      "7\n",
      "8\n",
      "9\n",
      "10\n",
      "11\n",
      "12\n",
      "13\n",
      "14\n",
      "15\n",
      "16\n",
      "17\n",
      "18\n",
      "19\n"
     ]
    }
   ],
   "source": [
    "from sklearn.cluster import KMeans\n",
    "def k_mean_score(data, n_cluster):\n",
    "    kmeans = KMeans(n_clusters = n_cluster)\n",
    "    model = kmeans.fit(data)\n",
    "    score = np.abs(model.score(data))\n",
    "    return score\n",
    "\n",
    "\n",
    "# Over a number of different cluster counts...\n",
    "scores=[]\n",
    "cc=list(range(5,20))\n",
    "for i in cc:\n",
    "    scores.append(k_mean_score(azdias_pca,i))\n",
    "    print(i)\n",
    "\n",
    "    #run k-means clustering on the data and...\n",
    "    \n",
    "    \n",
    " #   compute the average within-cluster distances.\n",
    "    \n",
    "    "
   ]
  },
  {
   "cell_type": "code",
   "execution_count": 120,
   "metadata": {},
   "outputs": [
    {
     "data": {
      "text/plain": [
       "Text(0,0.5,'SSE')"
      ]
     },
     "execution_count": 120,
     "metadata": {},
     "output_type": "execute_result"
    },
    {
     "data": {
      "image/png": "[encoded data removed]",
      "text/plain": [
       "<matplotlib.figure.Figure at 0x7fbd539f7a90>"
      ]
     },
     "metadata": {
      "needs_background": "light"
     },
     "output_type": "display_data"
    }
   ],
   "source": [
    "# calculates the score before. Since computing the knnscore takes a lot of time stored the result in result to avoid \n",
    "# computation for every run\n",
    "# scores=[39688619.956040323, 37667447.022431634, 36141951.893335477, 34860817.529125415, 33731002.871465184, 32941091.718100499, 32213863.505165663, 31609101.655667227, 30850526.437955525, 30396795.693966832, 30021197.688079305, 29970731.767774038]\n",
    "# cc=[3, 4, 5, 6, 7, 8, 9, 10, 11, 12, 13, 14]\n",
    "# print(scores)\n",
    "# print(cc)\n",
    "\n",
    "#This was a code which was supposed to be removed\n",
    "\n",
    "plt.plot(cc, scores, linestyle='-', marker='o')\n",
    "plt.xlabel('K')\n",
    "plt.ylabel('SSE')\n",
    "\n"
   ]
  },
  {
   "cell_type": "code",
   "execution_count": 121,
   "metadata": {},
   "outputs": [
    {
     "name": "stdout",
     "output_type": "stream",
     "text": [
      "Requirement already satisfied: matplotlib in /opt/conda/lib/python3.6/site-packages (2.1.0)\n",
      "Requirement already satisfied: numpy>=1.7.1 in /opt/conda/lib/python3.6/site-packages (from matplotlib) (1.12.1)\n",
      "Requirement already satisfied: six>=1.10 in /opt/conda/lib/python3.6/site-packages (from matplotlib) (1.11.0)\n",
      "Requirement already satisfied: python-dateutil>=2.0 in /opt/conda/lib/python3.6/site-packages (from matplotlib) (2.6.1)\n",
      "Requirement already satisfied: pytz in /opt/conda/lib/python3.6/site-packages (from matplotlib) (2017.3)\n",
      "Requirement already satisfied: cycler>=0.10 in /opt/conda/lib/python3.6/site-packages/cycler-0.10.0-py3.6.egg (from matplotlib) (0.10.0)\n",
      "Requirement already satisfied: pyparsing!=2.0.4,!=2.1.2,!=2.1.6,>=2.0.1 in /opt/conda/lib/python3.6/site-packages (from matplotlib) (2.2.0)\n"
     ]
    }
   ],
   "source": [
    "!pip install matplotlib"
   ]
  },
  {
   "cell_type": "code",
   "execution_count": 122,
   "metadata": {},
   "outputs": [
    {
     "data": {
      "image/png": "[encoded data removed]",
      "text/plain": [
       "<matplotlib.figure.Figure at 0x7fbde4edf908>"
      ]
     },
     "metadata": {
      "needs_background": "light"
     },
     "output_type": "display_data"
    }
   ],
   "source": [
    "# Investigate the change in within-cluster distance across number of clusters.\n",
    "# HINT: Use matplotlib's plot function to visualize this relationship.\n",
    "\n",
    "#This was a code which was supposed to be removed\n",
    "\n",
    "import matplotlib.pyplot as plt\n",
    "# plo=[]\n",
    "# plo.append(scores)\n",
    "# plo.append(cc)\n",
    "# print(plo)\n",
    "plt.plot(cc,scores,'-',marker='o',color='b');\n",
    "#plt.plot(scores,cc,linestyle='-',marker='0');\n",
    "plt.xlabel('K')\n",
    "plt.ylabel('SSE')\n",
    "plt.show()"
   ]
  },
  {
   "cell_type": "code",
   "execution_count": 125,
   "metadata": {},
   "outputs": [
    {
     "name": "stdout",
     "output_type": "stream",
     "text": [
      "Fitting\n"
     ]
    }
   ],
   "source": [
    "# Re-fit the k-means model with the selected number of clusters and obtain\n",
    "# cluster predictions for the general population demographics data.\n",
    "\n",
    "\n",
    "\n",
    "from sklearn.cluster import KMeans\n",
    "kmeans=KMeans(n_clusters=13)\n",
    "print(\"Fitting\")\n",
    "model_new=kmeans.fit(azdias_pca)\n",
    "azdias_pred=model_new.predict(azdias_pca)"
   ]
  },
  {
   "cell_type": "markdown",
   "metadata": {},
   "source": [
    "### Discussion 3.1: Apply Clustering to General Population\n",
    "\n",
    "According to the elbow method,the elbow of the curve is at 13 from the plot above so I'm taking 13 cluster.\n",
    "\n",
    "(Double-click this cell and replace this text with your own text, reporting your findings and decisions regarding clustering. Into how many clusters have you decided to segment the population?)"
   ]
  },
  {
   "cell_type": "markdown",
   "metadata": {},
   "source": [
    "### Step 3.2: Apply All Steps to the Customer Data\n",
    "\n",
    "Now that you have clusters and cluster centers for the general population, it's time to see how the customer data maps on to those clusters. Take care to not confuse this for re-fitting all of the models to the customer data. Instead, you're going to use the fits from the general population to clean, transform, and cluster the customer data. In the last step of the project, you will interpret how the general population fits apply to the customer data.\n",
    "\n",
    "- Don't forget when loading in the customers data, that it is semicolon (`;`) delimited.\n",
    "- Apply the same feature wrangling, selection, and engineering steps to the customer demographics using the `clean_data()` function you created earlier. (You can assume that the customer demographics data has similar meaning behind missing data patterns as the general demographics data.)\n",
    "- Use the sklearn objects from the general demographics data, and apply their transformations to the customers data. That is, you should not be using a `.fit()` or `.fit_transform()` method to re-fit the old objects, nor should you be creating new sklearn objects! Carry the data through the feature scaling, PCA, and clustering steps, obtaining cluster assignments for all of the data in the customer demographics data."
   ]
  },
  {
   "cell_type": "code",
   "execution_count": 126,
   "metadata": {},
   "outputs": [],
   "source": [
    "# Load in the customer demographics data.\n",
    "customers = pd.read_csv('Udacity_CUSTOMERS_Subset.csv',delimiter=';')"
   ]
  },
  {
   "cell_type": "code",
   "execution_count": 127,
   "metadata": {},
   "outputs": [
    {
     "data": {
      "text/plain": [
       "True"
      ]
     },
     "execution_count": 127,
     "metadata": {},
     "output_type": "execute_result"
    }
   ],
   "source": [
    "'PRAEGENDE_JUGENDJAHRE' in customers.columns"
   ]
  },
  {
   "cell_type": "code",
   "execution_count": 128,
   "metadata": {},
   "outputs": [
    {
     "name": "stdout",
     "output_type": "stream",
     "text": [
      "Cleaning\n",
      "Rows with data missing above 30 : 49927 or 26.05 % of all data\n",
      "Index(['ALTERSKATEGORIE_GROB', 'ANREDE_KZ', 'FINANZ_MINIMALIST',\n",
      "       'FINANZ_SPARER', 'FINANZ_VORSORGER', 'FINANZ_ANLEGER',\n",
      "       'FINANZ_UNAUFFAELLIGER', 'FINANZ_HAUSBAUER', 'GREEN_AVANTGARDE',\n",
      "       'HEALTH_TYP',\n",
      "       ...\n",
      "       'CAMEO_DEU_2015_9B', 'CAMEO_DEU_2015_9C', 'CAMEO_DEU_2015_9D',\n",
      "       'CAMEO_DEU_2015_9E', 'OST_WEST_KZ_O', 'OST_WEST_KZ_W', 'MOVEMENT',\n",
      "       'NATION', 'WEALTH', 'LIFE_STAGE'],\n",
      "      dtype='object', length=196)\n"
     ]
    }
   ],
   "source": [
    "# Apply preprocessing, feature transformation, and clustering from the general\n",
    "# demographics onto the customer data, obtaining cluster predictions for the\n",
    "# customer demographics data.\n",
    "print(\"Cleaning\")\n",
    "customers_new=clean_data(customers)\n",
    "#Missing Values removal\n",
    "print(customers_new.columns)\n"
   ]
  },
  {
   "cell_type": "code",
   "execution_count": 132,
   "metadata": {},
   "outputs": [
    {
     "name": "stdout",
     "output_type": "stream",
     "text": [
      "['GEBAEUDETYP_5.0']\n",
      "True\n",
      "(798061, 197)\n",
      "(141725, 197)\n",
      "SA\n"
     ]
    }
   ],
   "source": [
    "customers_new.shape\n",
    "print(list(set(azdias_new_scaled.columns)-set(customers_new_imputed.columns)))\n",
    "print('GEBAEUDETYP_5.0' in cust.columns)\n",
    "print(azdias_new_imputed1.shape)\n",
    "print(customers_new.shape)\n",
    "print(\"SA\")"
   ]
  },
  {
   "cell_type": "code",
   "execution_count": 133,
   "metadata": {
    "scrolled": false
   },
   "outputs": [
    {
     "name": "stdout",
     "output_type": "stream",
     "text": [
      "Scaling data\n",
      "#PCA\n"
     ]
    }
   ],
   "source": [
    "#customers_new=customers_new.drop('CAMEO_DEU_2015',axis=1)\n",
    "# for feature in customers_new.columns:\n",
    "#     print('Unique values for {} are {}'.format(feature, customers_new[feature].unique()))\n",
    "customers_new['GEBAEUDETYP_5.0']=0\n",
    "customers_new_imputed=pd.DataFrame(fill_missing.fit_transform(customers_new))\n",
    "customers_new_imputed.columns=customers_new.columns\n",
    "customers_new_imputed.index=customers_new.index\n",
    "customers_new['GEBAEUDETYP_5.0']=0\n",
    "print('Scaling data')\n",
    "#customers_new_imputed[customers_new_imputed.columns] = scaler.transform(customers_new_imputed[customers_new_imputed.columns].as_matrix())\n",
    "customers_new_scaled=scaler.transform(customers_new_imputed)\n",
    "customers_new_scaled=pd.DataFrame(customers_new_scaled,columns=list(customers_new_imputed))\n",
    "print(\"#PCA\")\n",
    "customers_pca=pca_40.transform(customers_new_scaled)\n",
    "customers_pred=model_new.predict(customers_pca)\n"
   ]
  },
  {
   "cell_type": "markdown",
   "metadata": {},
   "source": [
    "### Step 3.3: Compare Customer Data to Demographics Data\n",
    "\n",
    "At this point, you have clustered data based on demographics of the general population of Germany, and seen how the customer data for a mail-order sales company maps onto those demographic clusters. In this final substep, you will compare the two cluster distributions to see where the strongest customer base for the company is.\n",
    "\n",
    "Consider the proportion of persons in each cluster for the general population, and the proportions for the customers. If we think the company's customer base to be universal, then the cluster assignment proportions should be fairly similar between the two. If there are only particular segments of the population that are interested in the company's products, then we should see a mismatch from one to the other. If there is a higher proportion of persons in a cluster for the customer data compared to the general population (e.g. 5% of persons are assigned to a cluster for the general population, but 15% of the customer data is closest to that cluster's centroid) then that suggests the people in that cluster to be a target audience for the company. On the other hand, the proportion of the data in a cluster being larger in the general population than the customer data (e.g. only 2% of customers closest to a population centroid that captures 6% of the data) suggests that group of persons to be outside of the target demographics.\n",
    "\n",
    "Take a look at the following points in this step:\n",
    "\n",
    "- Compute the proportion of data points in each cluster for the general population and the customer data. Visualizations will be useful here: both for the individual dataset proportions, but also to visualize the ratios in cluster representation between groups. Seaborn's [`countplot()`](https://seaborn.pydata.org/generated/seaborn.countplot.html) or [`barplot()`](https://seaborn.pydata.org/generated/seaborn.barplot.html) function could be handy.\n",
    "  - Recall the analysis you performed in step 1.1.3 of the project, where you separated out certain data points from the dataset if they had more than a specified threshold of missing values. If you found that this group was qualitatively different from the main bulk of the data, you should treat this as an additional data cluster in this analysis. Make sure that you account for the number of data points in this subset, for both the general population and customer datasets, when making your computations!\n",
    "- Which cluster or clusters are overrepresented in the customer dataset compared to the general population? Select at least one such cluster and infer what kind of people might be represented by that cluster. Use the principal component interpretations from step 2.3 or look at additional components to help you make this inference. Alternatively, you can use the `.inverse_transform()` method of the PCA and StandardScaler objects to transform centroids back to the original data space and interpret the retrieved values directly.\n",
    "- Perform a similar investigation for the underrepresented clusters. Which cluster or clusters are underrepresented in the customer dataset compared to the general population, and what kinds of people are typified by these clusters?"
   ]
  },
  {
   "cell_type": "code",
   "execution_count": null,
   "metadata": {},
   "outputs": [],
   "source": [
    "print(customers_pca)\n",
    "print('az')\n",
    "print(azdias_pca)"
   ]
  },
  {
   "cell_type": "code",
   "execution_count": 134,
   "metadata": {},
   "outputs": [
    {
     "data": {
      "text/plain": [
       "Text(0.5,1,'General')"
      ]
     },
     "execution_count": 134,
     "metadata": {},
     "output_type": "execute_result"
    },
    {
     "data": {
      "image/png": "[encoded data removed]",
      "text/plain": [
       "<matplotlib.figure.Figure at 0x7fbde35bacf8>"
      ]
     },
     "metadata": {
      "needs_background": "light"
     },
     "output_type": "display_data"
    }
   ],
   "source": [
    "# Compare the proportion of data in each cluster for the customer data to the\n",
    "# proportion of data in each cluster for the general population.\n",
    "\n",
    "figure,axs=plt.subplots(nrows=1,ncols=2,figsize=(20,10))\n",
    "figure.subplots_adjust(hspace=1,wspace=3)\n",
    "\n",
    "sns.countplot(customers_pred, ax=axs[0])\n",
    "axs[0].set_title('Customer')\n",
    "sns.countplot(azdias_pred, ax=axs[1])\n",
    "axs[1].set_title('General')"
   ]
  },
  {
   "cell_type": "code",
   "execution_count": 135,
   "metadata": {},
   "outputs": [
    {
     "data": {
      "text/plain": [
       "ALTERSKATEGORIE_GROB      3.639417\n",
       "ANREDE_KZ                 1.940738\n",
       "FINANZ_MINIMALIST         2.471556\n",
       "FINANZ_SPARER             1.902395\n",
       "FINANZ_VORSORGER          4.268413\n",
       "FINANZ_ANLEGER            2.153980\n",
       "FINANZ_UNAUFFAELLIGER     1.698347\n",
       "FINANZ_HAUSBAUER          4.289634\n",
       "GREEN_AVANTGARDE          0.006913\n",
       "HEALTH_TYP                2.100921\n",
       "LP_LEBENSPHASE_FEIN      10.498782\n",
       "LP_LEBENSPHASE_GROB       3.483990\n",
       "RETOURTYP_BK_S            4.212054\n",
       "SEMIO_SOZ                 2.945340\n",
       "SEMIO_FAM                 2.257305\n",
       "SEMIO_REL                 2.001731\n",
       "SEMIO_MAT                 2.610595\n",
       "SEMIO_VERT                2.794101\n",
       "SEMIO_LUST                5.486518\n",
       "SEMIO_ERL                 6.625396\n",
       "SEMIO_KULT                1.932679\n",
       "SEMIO_RAT                 3.292416\n",
       "SEMIO_KRIT                5.966144\n",
       "SEMIO_DOM                 5.843661\n",
       "SEMIO_KAEM                6.073778\n",
       "SEMIO_PFLICHT             2.832432\n",
       "SEMIO_TRADV               2.274171\n",
       "SOHO_KZ                   0.012387\n",
       "VERS_TYP                  1.612739\n",
       "ANZ_PERSONEN              1.371701\n",
       "                           ...    \n",
       "CAMEO_DEU_2015_5D         0.000829\n",
       "CAMEO_DEU_2015_5E         0.010504\n",
       "CAMEO_DEU_2015_5F         0.001925\n",
       "CAMEO_DEU_2015_6A         0.006113\n",
       "CAMEO_DEU_2015_6B         0.009029\n",
       "CAMEO_DEU_2015_6C         0.071194\n",
       "CAMEO_DEU_2015_6D         0.014879\n",
       "CAMEO_DEU_2015_6E         0.007782\n",
       "CAMEO_DEU_2015_6F         0.041719\n",
       "CAMEO_DEU_2015_7A         0.012390\n",
       "CAMEO_DEU_2015_7B         0.052924\n",
       "CAMEO_DEU_2015_7C         0.036681\n",
       "CAMEO_DEU_2015_7D         0.025258\n",
       "CAMEO_DEU_2015_7E         0.015520\n",
       "CAMEO_DEU_2015_8A         0.008147\n",
       "CAMEO_DEU_2015_8B         0.141295\n",
       "CAMEO_DEU_2015_8C         0.058992\n",
       "CAMEO_DEU_2015_8D         0.088635\n",
       "CAMEO_DEU_2015_9A         0.068421\n",
       "CAMEO_DEU_2015_9B         0.043568\n",
       "CAMEO_DEU_2015_9C         0.071320\n",
       "CAMEO_DEU_2015_9D         0.042354\n",
       "CAMEO_DEU_2015_9E         0.063998\n",
       "OST_WEST_KZ_O             0.036811\n",
       "OST_WEST_KZ_W             0.302308\n",
       "MOVEMENT                  0.697692\n",
       "NATION                    1.006913\n",
       "WEALTH                    2.885256\n",
       "LIFE_STAGE                4.435989\n",
       "GEBAEUDETYP_5.0           4.435989\n",
       "Length: 197, dtype: float64"
      ]
     },
     "execution_count": 135,
     "metadata": {},
     "output_type": "execute_result"
    }
   ],
   "source": [
    "# What kinds of people are part of a cluster that is overrepresented in the\n",
    "# customer data compared to the general population?\n",
    "\n",
    "centroid = scaler.inverse_transform(pca_40.inverse_transform(model_new.cluster_centers_[4]))\n",
    "overrepresented = pd.Series(data = centroid, index = customers_new_scaled.columns)\n",
    "overrepresented"
   ]
  },
  {
   "cell_type": "code",
   "execution_count": 136,
   "metadata": {},
   "outputs": [
    {
     "data": {
      "text/plain": [
       "ALTERSKATEGORIE_GROB     1.743112\n",
       "ANREDE_KZ                1.991370\n",
       "FINANZ_MINIMALIST        1.102422\n",
       "FINANZ_SPARER            4.448873\n",
       "FINANZ_VORSORGER         2.179812\n",
       "FINANZ_ANLEGER           4.342957\n",
       "FINANZ_UNAUFFAELLIGER    3.843951\n",
       "FINANZ_HAUSBAUER         4.296974\n",
       "GREEN_AVANTGARDE         0.035107\n",
       "HEALTH_TYP               2.354738\n",
       "LP_LEBENSPHASE_FEIN      7.805896\n",
       "LP_LEBENSPHASE_GROB      2.955222\n",
       "RETOURTYP_BK_S           2.560918\n",
       "SEMIO_SOZ                3.303285\n",
       "SEMIO_FAM                3.925219\n",
       "SEMIO_REL                5.345259\n",
       "SEMIO_MAT                4.676021\n",
       "SEMIO_VERT               2.243633\n",
       "SEMIO_LUST               3.089281\n",
       "SEMIO_ERL                4.312868\n",
       "SEMIO_KULT               4.065693\n",
       "SEMIO_RAT                5.993748\n",
       "SEMIO_KRIT               5.499924\n",
       "SEMIO_DOM                6.088103\n",
       "SEMIO_KAEM               6.040523\n",
       "SEMIO_PFLICHT            6.085645\n",
       "SEMIO_TRADV              5.386926\n",
       "SOHO_KZ                  0.004168\n",
       "VERS_TYP                 1.560493\n",
       "ANZ_PERSONEN             1.408236\n",
       "                           ...   \n",
       "CAMEO_DEU_2015_5D        0.007031\n",
       "CAMEO_DEU_2015_5E        0.025406\n",
       "CAMEO_DEU_2015_5F        0.007095\n",
       "CAMEO_DEU_2015_6A        0.002577\n",
       "CAMEO_DEU_2015_6B        0.013165\n",
       "CAMEO_DEU_2015_6C        0.062510\n",
       "CAMEO_DEU_2015_6D        0.025117\n",
       "CAMEO_DEU_2015_6E        0.009966\n",
       "CAMEO_DEU_2015_6F        0.019677\n",
       "CAMEO_DEU_2015_7A        0.004116\n",
       "CAMEO_DEU_2015_7B        0.050017\n",
       "CAMEO_DEU_2015_7C        0.058010\n",
       "CAMEO_DEU_2015_7D        0.017090\n",
       "CAMEO_DEU_2015_7E        0.007824\n",
       "CAMEO_DEU_2015_8A        0.005601\n",
       "CAMEO_DEU_2015_8B        0.139886\n",
       "CAMEO_DEU_2015_8C        0.070448\n",
       "CAMEO_DEU_2015_8D        0.060030\n",
       "CAMEO_DEU_2015_9A        0.027085\n",
       "CAMEO_DEU_2015_9B        0.058380\n",
       "CAMEO_DEU_2015_9C        0.075073\n",
       "CAMEO_DEU_2015_9D        0.072895\n",
       "CAMEO_DEU_2015_9E        0.082145\n",
       "OST_WEST_KZ_O            0.004244\n",
       "OST_WEST_KZ_W            0.246882\n",
       "MOVEMENT                 0.753118\n",
       "NATION                   1.035107\n",
       "WEALTH                   2.760869\n",
       "LIFE_STAGE               4.290020\n",
       "GEBAEUDETYP_5.0          4.290020\n",
       "Length: 197, dtype: float64"
      ]
     },
     "execution_count": 136,
     "metadata": {},
     "output_type": "execute_result"
    }
   ],
   "source": [
    "# What kinds of people are part of a cluster that is underrepresented in the\n",
    "# customer data compared to the general population?\n",
    "centroid = scaler.inverse_transform(pca_40.inverse_transform(model_new.cluster_centers_[12]))\n",
    "underrepresented = pd.Series(data = centroid, index = customers_new_scaled.columns)\n",
    "underrepresented"
   ]
  },
  {
   "cell_type": "markdown",
   "metadata": {},
   "source": [
    "### Discussion 3.3: Compare Customer Data to Demographics Data\n",
    "\n",
    "After analyzing the above,\n",
    "\n",
    "Cluster 7,11 are overrepresented in the customers data compared to general population data. Few characteristics of population that are relative popular with company are\n",
    "\n",
    "    1) In Prosperous or Comfortable households (WEALTH=2.88)\n",
    "    2) In life stage of Families With School Age Children or Older Families & Mature Couples (LIFE_STAGE=4.43)\n",
    "\n",
    "Cluster 1,3,10,12 are underrepresented in the customers data. Few of the characteristics of the population that are relatively unpopular with the company are\n",
    "\n",
    "    1) In Less Affluent or Poorer households (WEALTH=2.77)\n",
    "    2) In life stage of Pre-Family Couples & Singles or Young Couples With Children (LIFE_STAGE=4.29)\n",
    "\n",
    "\n",
    "\n",
    "\n",
    "(Double-click this cell and replace this text with your own text, reporting findings and conclusions from the clustering analysis. Can we describe segments of the population that are relatively popular with the mail-order company, or relatively unpopular with the company?)"
   ]
  },
  {
   "cell_type": "markdown",
   "metadata": {},
   "source": [
    "> Congratulations on making it this far in the project! Before you finish, make sure to check through the entire notebook from top to bottom to make sure that your analysis follows a logical flow and all of your findings are documented in **Discussion** cells. Once you've checked over all of your work, you should export the notebook as an HTML document to submit for evaluation. You can do this from the menu, navigating to **File -> Download as -> HTML (.html)**. You will submit both that document and this notebook for your project submission."
   ]
  },
  {
   "cell_type": "code",
   "execution_count": null,
   "metadata": {},
   "outputs": [],
   "source": []
  }
 ],
 "metadata": {
  "kernelspec": {
   "display_name": "Python 3",
   "language": "python",
   "name": "python3"
  },
  "language_info": {
   "codemirror_mode": {
    "name": "ipython",
    "version": 3
   },
   "file_extension": ".py",
   "mimetype": "text/x-python",
   "name": "python",
   "nbconvert_exporter": "python",
   "pygments_lexer": "ipython3",
   "version": "3.6.3"
  }
 },
 "nbformat": 4,
 "nbformat_minor": 2
}
